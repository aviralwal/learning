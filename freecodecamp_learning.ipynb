{
 "cells": [
  {
   "cell_type": "markdown",
   "metadata": {},
   "source": [
    "Coruse Link - https://www.youtube.com/watch?v=rfscVS0vtbw"
   ]
  },
  {
   "cell_type": "markdown",
   "metadata": {},
   "source": [
    "## TODO - \n",
    "add the sections before taking input from user(before 48:25 time)"
   ]
  },
  {
   "cell_type": "markdown",
   "metadata": {
    "toc-hr-collapsed": true,
    "toc-nb-collapsed": true
   },
   "source": [
    "## Taking Input from user\n",
    "To take input from user in python, we use the command `input`. This takes a single optional arg called `prompt` which is a message printed before the input is being taken."
   ]
  },
  {
   "cell_type": "code",
   "execution_count": 2,
   "metadata": {},
   "outputs": [
    {
     "name": "stdin",
     "output_type": "stream",
     "text": [
      "Enter your name:  aviral\n"
     ]
    },
    {
     "name": "stdout",
     "output_type": "stream",
     "text": [
      "Hello aviral\n"
     ]
    }
   ],
   "source": [
    "name = input(\"Enter your name: \")\n",
    "print(\"Hello \" + name)"
   ]
  },
  {
   "cell_type": "code",
   "execution_count": 3,
   "metadata": {},
   "outputs": [
    {
     "name": "stdin",
     "output_type": "stream",
     "text": [
      "Enter your age:  13\n"
     ]
    },
    {
     "name": "stdout",
     "output_type": "stream",
     "text": [
      "You are 13 years old\n"
     ]
    }
   ],
   "source": [
    "age = input(\"Enter your age: \")\n",
    "print(\"You are \" + age +\" years old\")"
   ]
  },
  {
   "cell_type": "markdown",
   "metadata": {},
   "source": [
    "## Building a basic calculator\n",
    "In this we will take input numbers from users and add them"
   ]
  },
  {
   "cell_type": "code",
   "execution_count": 1,
   "metadata": {},
   "outputs": [
    {
     "name": "stdin",
     "output_type": "stream",
     "text": [
      "Enter a number:  1\n",
      "Enter another number:  2\n"
     ]
    },
    {
     "name": "stdout",
     "output_type": "stream",
     "text": [
      "12\n"
     ]
    }
   ],
   "source": [
    "num1 = input(\"Enter a number: \")\n",
    "num2 = input(\"Enter another number: \")\n",
    "result = num1 + num2\n",
    "print(result)"
   ]
  },
  {
   "cell_type": "markdown",
   "metadata": {},
   "source": [
    "The program should have added the nnumbers but it gave something else. This is because when we input any value, python converts it automatically to string. So the values we have are not int type but string type. Due to this the values get appended instead of getting added. To solve this, we can just type convert values to int"
   ]
  },
  {
   "cell_type": "code",
   "execution_count": 1,
   "metadata": {},
   "outputs": [
    {
     "name": "stdin",
     "output_type": "stream",
     "text": [
      "Enter a number:  1\n",
      "Enter another number:  2\n"
     ]
    },
    {
     "name": "stdout",
     "output_type": "stream",
     "text": [
      "3\n"
     ]
    }
   ],
   "source": [
    "num1 = input(\"Enter a number: \")\n",
    "num2 = input(\"Enter another number: \")\n",
    "result = int(num1) + int(num2) # int function will convert the values inside to integer values(whole numbers)\n",
    "print(result)"
   ]
  },
  {
   "cell_type": "markdown",
   "metadata": {},
   "source": [
    "There is 1 problem with this. If we enter decimal values, it will not work since the values are getting converted to integer. To mitigate this, we can convert the values inputted to float type. This will allow values to have decimals."
   ]
  },
  {
   "cell_type": "code",
   "execution_count": 1,
   "metadata": {},
   "outputs": [
    {
     "name": "stdin",
     "output_type": "stream",
     "text": [
      "Enter a number:  4\n",
      "Enter another number:  5.5\n"
     ]
    },
    {
     "name": "stdout",
     "output_type": "stream",
     "text": [
      "9.5\n"
     ]
    }
   ],
   "source": [
    "num1 = input(\"Enter a number: \")\n",
    "num2 = input(\"Enter another number: \")\n",
    "result = float(num1) + float(num2) # float function will convert the values inside to float type values to allow decimals\n",
    "print(result)"
   ]
  },
  {
   "cell_type": "markdown",
   "metadata": {},
   "source": [
    "## Building Mad Libs Game in python\n",
    "It is a game in which we enter a bunch of words like name, color, age, noun, etc and entering them in random places in a story to make a fun story. In this we will have a story and input a color, plural noun and celebrity name and then entry them into our story."
   ]
  },
  {
   "cell_type": "code",
   "execution_count": 3,
   "metadata": {},
   "outputs": [
    {
     "name": "stdin",
     "output_type": "stream",
     "text": [
      "Enter a color:  green\n",
      "Enter a plural_noun:  Tulips\n",
      "Enter a celebrity:  Tom Hanks\n"
     ]
    },
    {
     "name": "stdout",
     "output_type": "stream",
     "text": [
      "Roses are green\n",
      "Tulips is blue\n",
      "I Love Tom Hanks\n"
     ]
    }
   ],
   "source": [
    "color = input(\"Enter a color: \")\n",
    "plural_noun = input(\"Enter a plural_noun: \")\n",
    "celebrity = input(\"Enter a celebrity: \")\n",
    "\n",
    "print(\"Roses are \" + color)\n",
    "print( plural_noun + \" is blue\")\n",
    "print(\"I Love \" + celebrity)"
   ]
  },
  {
   "cell_type": "markdown",
   "metadata": {},
   "source": [
    "## Lists"
   ]
  },
  {
   "cell_type": "markdown",
   "metadata": {},
   "source": [
    "It is a data structure that can store large amount of heterogeneous(different) data type data. To create a list we just write data in `[]` brackets"
   ]
  },
  {
   "cell_type": "code",
   "execution_count": 1,
   "metadata": {},
   "outputs": [],
   "source": [
    "friends = [\"Kevin\",\"Karen\",\"Jim\"]"
   ]
  },
  {
   "cell_type": "markdown",
   "metadata": {},
   "source": [
    "List can contain anytype of information"
   ]
  },
  {
   "cell_type": "code",
   "execution_count": 2,
   "metadata": {},
   "outputs": [],
   "source": [
    "friends = [\"Kevin\",2,False]"
   ]
  },
  {
   "cell_type": "code",
   "execution_count": 3,
   "metadata": {},
   "outputs": [
    {
     "name": "stdout",
     "output_type": "stream",
     "text": [
      "['Kevin', 'Karen', 'Jim']\n"
     ]
    }
   ],
   "source": [
    "friends = [\"Kevin\",\"Karen\",\"Jim\"]\n",
    "print(friends)"
   ]
  },
  {
   "cell_type": "markdown",
   "metadata": {},
   "source": [
    "To print a specific element of a list, we can do so by refering it by it's index value(in list, index starts from position 0 to n-1 where n is length of list)"
   ]
  },
  {
   "cell_type": "code",
   "execution_count": 5,
   "metadata": {},
   "outputs": [
    {
     "name": "stdout",
     "output_type": "stream",
     "text": [
      "Kevin\n",
      "Karen\n"
     ]
    }
   ],
   "source": [
    "print(friends[0]) # To access the 1st element of list friends\n",
    "print(friends[1])"
   ]
  },
  {
   "cell_type": "markdown",
   "metadata": {},
   "source": [
    "We can also access the elements from the end of the list by using negative index values. They start from `-1` to `-n` where n is the length of list. `-1` will refer to last element of list and `-n` will refer the first."
   ]
  },
  {
   "cell_type": "code",
   "execution_count": 7,
   "metadata": {},
   "outputs": [
    {
     "name": "stdout",
     "output_type": "stream",
     "text": [
      "Jim\n",
      "Kevin\n"
     ]
    }
   ],
   "source": [
    "print(friends[-1])\n",
    "print(friends[-3])"
   ]
  },
  {
   "cell_type": "markdown",
   "metadata": {},
   "source": [
    "To select elements from position 1 to end, we can use slicing method"
   ]
  },
  {
   "cell_type": "code",
   "execution_count": 8,
   "metadata": {},
   "outputs": [
    {
     "name": "stdout",
     "output_type": "stream",
     "text": [
      "['Karen', 'Jim']\n"
     ]
    }
   ],
   "source": [
    "print(friends[1:])"
   ]
  },
  {
   "cell_type": "markdown",
   "metadata": {},
   "source": [
    "We can also specify a to and from range, i.e., if we want to get the elements 1 & 2, we can write `[1:3]`. The index position after `:` is not included in result"
   ]
  },
  {
   "cell_type": "code",
   "execution_count": 9,
   "metadata": {},
   "outputs": [
    {
     "name": "stdout",
     "output_type": "stream",
     "text": [
      "['Karen', 'Jim']\n"
     ]
    }
   ],
   "source": [
    "friends = [\"Kevin\",\"Karen\",\"Jim\",\"Oscar\",\"Toby\"]\n",
    "print(friends[1:3])"
   ]
  },
  {
   "cell_type": "markdown",
   "metadata": {},
   "source": [
    "We can modify any value by accessing it by index value. For eg"
   ]
  },
  {
   "cell_type": "code",
   "execution_count": 10,
   "metadata": {},
   "outputs": [
    {
     "name": "stdout",
     "output_type": "stream",
     "text": [
      "['Kevin', 'Mike', 'Jim', 'Oscar', 'Toby']\n"
     ]
    }
   ],
   "source": [
    "friends[1] = \"Mike\"\n",
    "print(friends)"
   ]
  },
  {
   "cell_type": "markdown",
   "metadata": {},
   "source": [
    "## List Functions\n",
    "These are some common list function that we can use."
   ]
  },
  {
   "cell_type": "code",
   "execution_count": 13,
   "metadata": {},
   "outputs": [
    {
     "name": "stdout",
     "output_type": "stream",
     "text": [
      "['Kevin', 'Karen', 'Jim', 'Oscar', 'Toby']\n"
     ]
    }
   ],
   "source": [
    "lucky_numbers = [4,8,15,16,23,42]\n",
    "friends = [\"Kevin\",\"Karen\",\"Jim\",\"Oscar\",\"Toby\"]\n",
    "\n",
    "print(friends) # Printing list"
   ]
  },
  {
   "cell_type": "markdown",
   "metadata": {},
   "source": [
    "extend function can be used to append 1 list to another."
   ]
  },
  {
   "cell_type": "code",
   "execution_count": 14,
   "metadata": {},
   "outputs": [
    {
     "name": "stdout",
     "output_type": "stream",
     "text": [
      "['Kevin', 'Karen', 'Jim', 'Oscar', 'Toby', 4, 8, 15, 16, 23, 42]\n"
     ]
    }
   ],
   "source": [
    "friends.extend(lucky_numbers)\n",
    "print(friends)"
   ]
  },
  {
   "cell_type": "markdown",
   "metadata": {},
   "source": [
    "append function can be used to add single element to the end of the list"
   ]
  },
  {
   "cell_type": "code",
   "execution_count": 15,
   "metadata": {},
   "outputs": [],
   "source": [
    "lucky_numbers = [4,8,15,16,23,42]\n",
    "friends = [\"Kevin\",\"Karen\",\"Jim\",\"Oscar\",\"Toby\"]\n",
    "friends.append(\"Creed\")"
   ]
  },
  {
   "cell_type": "markdown",
   "metadata": {},
   "source": [
    "`insert` function can be used to insert element in any position of the list. This will take 2 parameters, index position and value. The value will get added at the index position passed"
   ]
  },
  {
   "cell_type": "code",
   "execution_count": 16,
   "metadata": {},
   "outputs": [
    {
     "name": "stdout",
     "output_type": "stream",
     "text": [
      "['Kevin', 'Kelly', 'Karen', 'Jim', 'Oscar', 'Toby']\n"
     ]
    }
   ],
   "source": [
    "lucky_numbers = [4,8,15,16,23,42]\n",
    "friends = [\"Kevin\",\"Karen\",\"Jim\",\"Oscar\",\"Toby\"]\n",
    "friends.insert(1,\"Kelly\") #\"Kelly\" value will get inserted at position 1 and all the other values on index 1 and after will get shifted 1 index position\n",
    "print(friends)"
   ]
  },
  {
   "cell_type": "markdown",
   "metadata": {},
   "source": [
    "To remove values, we can use `remove` function. It only requires the value that needs to be removed"
   ]
  },
  {
   "cell_type": "code",
   "execution_count": 18,
   "metadata": {},
   "outputs": [
    {
     "name": "stdout",
     "output_type": "stream",
     "text": [
      "['Kevin', 'Karen', 'Oscar', 'Toby']\n"
     ]
    }
   ],
   "source": [
    "lucky_numbers = [4,8,15,16,23,42]\n",
    "friends = [\"Kevin\",\"Karen\",\"Jim\",\"Oscar\",\"Toby\"]\n",
    "friends.remove(\"Jim\")\n",
    "print(friends)"
   ]
  },
  {
   "cell_type": "markdown",
   "metadata": {},
   "source": [
    "`clear` function can be used to clear all the data in a list."
   ]
  },
  {
   "cell_type": "code",
   "execution_count": 19,
   "metadata": {},
   "outputs": [
    {
     "name": "stdout",
     "output_type": "stream",
     "text": [
      "[]\n"
     ]
    }
   ],
   "source": [
    "lucky_numbers = [4,8,15,16,23,42]\n",
    "friends = [\"Kevin\",\"Karen\",\"Jim\",\"Oscar\",\"Toby\"]\n",
    "friends.clear()\n",
    "print(friends)"
   ]
  },
  {
   "cell_type": "markdown",
   "metadata": {},
   "source": [
    "`pop` will remove the last element from the list"
   ]
  },
  {
   "cell_type": "code",
   "execution_count": 20,
   "metadata": {},
   "outputs": [
    {
     "name": "stdout",
     "output_type": "stream",
     "text": [
      "['Kevin', 'Karen', 'Jim', 'Oscar']\n"
     ]
    }
   ],
   "source": [
    "lucky_numbers = [4,8,15,16,23,42]\n",
    "friends = [\"Kevin\",\"Karen\",\"Jim\",\"Oscar\",\"Toby\"]\n",
    "friends.pop()\n",
    "print(friends)"
   ]
  },
  {
   "cell_type": "markdown",
   "metadata": {},
   "source": [
    "To search value in list, we use function `index`. This will return the index value of the value in the list"
   ]
  },
  {
   "cell_type": "code",
   "execution_count": 22,
   "metadata": {},
   "outputs": [
    {
     "name": "stdout",
     "output_type": "stream",
     "text": [
      "0\n",
      "1\n"
     ]
    }
   ],
   "source": [
    "lucky_numbers = [4,8,15,16,23,42]\n",
    "friends = [\"Kevin\",\"Karen\",\"Jim\",\"Oscar\",\"Toby\"]\n",
    "print(friends.index(\"Kevin\"))\n",
    "print(friends.index(\"Karen\"))\n"
   ]
  },
  {
   "cell_type": "code",
   "execution_count": 23,
   "metadata": {},
   "outputs": [
    {
     "ename": "ValueError",
     "evalue": "'Taylor' is not in list",
     "output_type": "error",
     "traceback": [
      "\u001b[0;31m---------------------------------------------------------------------------\u001b[0m",
      "\u001b[0;31mValueError\u001b[0m                                Traceback (most recent call last)",
      "\u001b[0;32m<ipython-input-23-4faa91ec8cd7>\u001b[0m in \u001b[0;36m<module>\u001b[0;34m\u001b[0m\n\u001b[0;32m----> 1\u001b[0;31m \u001b[0mprint\u001b[0m\u001b[0;34m(\u001b[0m\u001b[0mfriends\u001b[0m\u001b[0;34m.\u001b[0m\u001b[0mindex\u001b[0m\u001b[0;34m(\u001b[0m\u001b[0;34m\"Taylor\"\u001b[0m\u001b[0;34m)\u001b[0m\u001b[0;34m)\u001b[0m \u001b[0;31m# This will give an error since this value is not present in the list\u001b[0m\u001b[0;34m\u001b[0m\u001b[0;34m\u001b[0m\u001b[0m\n\u001b[0m",
      "\u001b[0;31mValueError\u001b[0m: 'Taylor' is not in list"
     ]
    }
   ],
   "source": [
    "print(friends.index(\"Taylor\")) # This will give an error since this value is not present in the list"
   ]
  },
  {
   "cell_type": "markdown",
   "metadata": {},
   "source": [
    "To count the number of times a value is present in the list, we can use `count` function. It will take input a value and return the count of that value in the list."
   ]
  },
  {
   "cell_type": "code",
   "execution_count": 24,
   "metadata": {},
   "outputs": [
    {
     "name": "stdout",
     "output_type": "stream",
     "text": [
      "2\n"
     ]
    }
   ],
   "source": [
    "lucky_numbers = [4,8,15,16,23,42]\n",
    "friends = [\"Kevin\",\"Karen\",\"Jim\",\"Jim\",\"Oscar\",\"Toby\"]\n",
    "print(friends.count(\"Jim\"))"
   ]
  },
  {
   "cell_type": "markdown",
   "metadata": {},
   "source": [
    "`sort` function will sort the list in ascending order"
   ]
  },
  {
   "cell_type": "code",
   "execution_count": 28,
   "metadata": {},
   "outputs": [
    {
     "name": "stdout",
     "output_type": "stream",
     "text": [
      "['Jim', 'Jim', 'Karen', 'Kevin', 'Oscar', 'Toby']\n",
      "[4, 8, 15, 16, 23, 42]\n"
     ]
    }
   ],
   "source": [
    "lucky_numbers = [42,4,8,15,16,23]\n",
    "friends = [\"Kevin\",\"Karen\",\"Jim\",\"Jim\",\"Oscar\",\"Toby\"]\n",
    "friends.sort()\n",
    "lucky_numbers.sort()\n",
    "print(friends)\n",
    "print(lucky_numbers)"
   ]
  },
  {
   "cell_type": "markdown",
   "metadata": {},
   "source": [
    "`reverse` function can be used to reverse elements in a list(not sort them but move then from index `m` to index `n-m` in a list of length `n`)"
   ]
  },
  {
   "cell_type": "code",
   "execution_count": 30,
   "metadata": {},
   "outputs": [
    {
     "name": "stdout",
     "output_type": "stream",
     "text": [
      "[23, 16, 15, 8, 4, 42]\n"
     ]
    }
   ],
   "source": [
    "lucky_numbers = [42,4,8,15,16,23]\n",
    "friends = [\"Kevin\",\"Karen\",\"Jim\",\"Jim\",\"Oscar\",\"Toby\"]\n",
    "lucky_numbers.reverse()\n",
    "print(lucky_numbers)"
   ]
  },
  {
   "cell_type": "markdown",
   "metadata": {},
   "source": [
    "`copy` function can be used to create copy of a list "
   ]
  },
  {
   "cell_type": "code",
   "execution_count": 31,
   "metadata": {},
   "outputs": [
    {
     "name": "stdout",
     "output_type": "stream",
     "text": [
      "['Kevin', 'Karen', 'Jim', 'Jim', 'Oscar', 'Toby']\n"
     ]
    }
   ],
   "source": [
    "lucky_numbers = [42,4,8,15,16,23]\n",
    "friends = [\"Kevin\",\"Karen\",\"Jim\",\"Jim\",\"Oscar\",\"Toby\"]\n",
    "\n",
    "friends_2 = friends.copy()\n",
    "print(friends_2)"
   ]
  },
  {
   "cell_type": "markdown",
   "metadata": {},
   "source": [
    "## Tuples\n",
    "In this we can store different values like lists. They are defined by `()`. They are immutable, i.e., we cannot add or remove elements in tuple and change the values of tuples. Tuples can be accessed using index position(same way we have for lists) and start from index position 0"
   ]
  },
  {
   "cell_type": "code",
   "execution_count": 2,
   "metadata": {},
   "outputs": [
    {
     "name": "stdout",
     "output_type": "stream",
     "text": [
      "4\n",
      "5\n"
     ]
    }
   ],
   "source": [
    "coordinates = (4,5) #Tuples are defined using () brackets\n",
    "print(coordinates[0]) # This will return 4\n",
    "print(coordinates[1]) # This will return 5"
   ]
  },
  {
   "cell_type": "code",
   "execution_count": 3,
   "metadata": {},
   "outputs": [
    {
     "ename": "TypeError",
     "evalue": "'tuple' object does not support item assignment",
     "output_type": "error",
     "traceback": [
      "\u001b[0;31m---------------------------------------------------------------------------\u001b[0m",
      "\u001b[0;31mTypeError\u001b[0m                                 Traceback (most recent call last)",
      "\u001b[0;32m<ipython-input-3-0d0192117552>\u001b[0m in \u001b[0;36m<module>\u001b[0;34m\u001b[0m\n\u001b[0;32m----> 1\u001b[0;31m \u001b[0mcoordinates\u001b[0m\u001b[0;34m[\u001b[0m\u001b[0;36m1\u001b[0m\u001b[0;34m]\u001b[0m \u001b[0;34m=\u001b[0m \u001b[0;36m10\u001b[0m \u001b[0;31m# This will give error since we cannot change values in tuple\u001b[0m\u001b[0;34m\u001b[0m\u001b[0;34m\u001b[0m\u001b[0m\n\u001b[0m",
      "\u001b[0;31mTypeError\u001b[0m: 'tuple' object does not support item assignment"
     ]
    }
   ],
   "source": [
    "coordinates[1] = 10 # This will give error since we cannot change values in tuple"
   ]
  },
  {
   "cell_type": "markdown",
   "metadata": {},
   "source": [
    "We basically save data in tuples which will never change, for example coordinates of a place will never change so we can save them in tuples. "
   ]
  },
  {
   "cell_type": "markdown",
   "metadata": {},
   "source": [
    "## Functions\n",
    "Collection of code which performs certain task.\n",
    "function is defined by using keyword `def`. We are creating a function which will print hi.\n",
    "After adding the `:` after the function name(), we need to indent it so that python can understand that the code is part of the function(equivalent to defining scoping using `{}` in other languages)"
   ]
  },
  {
   "cell_type": "code",
   "execution_count": 7,
   "metadata": {},
   "outputs": [
    {
     "name": "stdout",
     "output_type": "stream",
     "text": [
      "Top\n",
      "Hello user\n",
      "Bottom\n"
     ]
    }
   ],
   "source": [
    "def say_hi(): # sayHi() is the function name\n",
    "    print(\"Hello user\") # This line is present in the function\n",
    "# Once the function is defined, we need to \"call\" the function otherwise python will not execute the function\n",
    "print(\"Top\")\n",
    "say_hi()\n",
    "print(\"Bottom\")"
   ]
  },
  {
   "cell_type": "markdown",
   "metadata": {},
   "source": [
    "First `Top` will be printed, and then it will execute the function `say_hi()` since we have called it next. Once the execution is completed, then it will move to next line and print `Bottom`"
   ]
  },
  {
   "cell_type": "markdown",
   "metadata": {},
   "source": [
    "We can also pass some information to the function, called parameters. For eg, we can pass the username to the function and have it say hi to that user. A function can have any number of parameters."
   ]
  },
  {
   "cell_type": "code",
   "execution_count": 8,
   "metadata": {},
   "outputs": [
    {
     "name": "stdout",
     "output_type": "stream",
     "text": [
      "Hello Mike\n",
      "Hello Steve\n"
     ]
    }
   ],
   "source": [
    "def say_hi(name):\n",
    "    print(\"Hello \" + name)\n",
    "    \n",
    "say_hi(\"Mike\")\n",
    "say_hi(\"Steve\")"
   ]
  },
  {
   "cell_type": "code",
   "execution_count": 11,
   "metadata": {},
   "outputs": [
    {
     "name": "stdout",
     "output_type": "stream",
     "text": [
      "Hello Mike , you are 35\n",
      "Hello Steve , you are 70\n"
     ]
    }
   ],
   "source": [
    "def say_hi(name,age):\n",
    "    print(\"Hello \" + name + \" , you are \" + str(age))\n",
    "    \n",
    "say_hi(\"Mike\",35)\n",
    "say_hi(\"Steve\",70)"
   ]
  },
  {
   "cell_type": "markdown",
   "metadata": {},
   "source": [
    "Code should be broken down into functions as much as possible and same codes should be pushed into as a single function to allow clean code"
   ]
  },
  {
   "cell_type": "markdown",
   "metadata": {},
   "source": [
    "## Return Statement\n",
    "`return` keyword can be used in a function to get some information back from the function,i.e., once the function has executed the code, it can return some data. Any code written after the return keyword will not work since return keyword breaks the function.\n",
    "\n",
    "For eg, we will cube a number in function and return that number"
   ]
  },
  {
   "cell_type": "code",
   "execution_count": 14,
   "metadata": {},
   "outputs": [
    {
     "name": "stdout",
     "output_type": "stream",
     "text": [
      "27\n",
      "64\n"
     ]
    }
   ],
   "source": [
    "def cube(num):\n",
    "    return num * num * num; # this value will be returned to the place where function is called\n",
    "    print(\"code\") # This code will not get executed since return keyword returns back from the code\n",
    "\n",
    "print(cube(3)) # This will print the value returned\n",
    "\n",
    "result = cube(4) # Result will store the value returned from the function\n",
    "print(result)"
   ]
  },
  {
   "cell_type": "markdown",
   "metadata": {},
   "source": [
    "## If statements\n",
    "They are special functions in python which can help the program to take decisions based on the input recevied.\n",
    "\n"
   ]
  },
  {
   "cell_type": "code",
   "execution_count": 3,
   "metadata": {},
   "outputs": [
    {
     "name": "stdout",
     "output_type": "stream",
     "text": [
      "You are a male\n"
     ]
    }
   ],
   "source": [
    "is_male = True\n",
    "if is_male: # inside if condiditon we pass true or false values\n",
    "    print(\"You are a male\")"
   ]
  },
  {
   "cell_type": "markdown",
   "metadata": {},
   "source": [
    "Inside the above code, we will get `You are a male` in output since the value of `is_male` is `true` which is being passed to the if statement and that results in execution of if condition statement. If we pass value as `False`, then it will not execute. We can check that from the example below "
   ]
  },
  {
   "cell_type": "code",
   "execution_count": 5,
   "metadata": {},
   "outputs": [],
   "source": [
    "is_male = False\n",
    "if is_male: # inside if condiditon we pass true or false values\n",
    "    print(\"You are a male\")"
   ]
  },
  {
   "cell_type": "markdown",
   "metadata": {},
   "source": [
    "We can also add an `else` statement. else statement get's executed whenever the `if` statements evaluates to false. For eg "
   ]
  },
  {
   "cell_type": "code",
   "execution_count": 6,
   "metadata": {},
   "outputs": [
    {
     "name": "stdout",
     "output_type": "stream",
     "text": [
      "You are not a male\n"
     ]
    }
   ],
   "source": [
    "is_male = False\n",
    "if is_male:\n",
    "    print(\"You are a male\")\n",
    "else:\n",
    "    print(\"You are not a male\")"
   ]
  },
  {
   "cell_type": "markdown",
   "metadata": {},
   "source": [
    "If we want to check for multiple conditions, we can use relational operators like  `or` and `and`. Let's say that we want to check condition that if a person `is_male` or `is_tall`, then we can do so using below code. This will be successful if `is_male` is true or `is_tall` is true or both are true"
   ]
  },
  {
   "cell_type": "code",
   "execution_count": 15,
   "metadata": {},
   "outputs": [
    {
     "name": "stdout",
     "output_type": "stream",
     "text": [
      "You are either male or tall or both\n"
     ]
    }
   ],
   "source": [
    "is_male = True\n",
    "is_tall = True\n",
    "\n",
    "if is_male or is_tall:\n",
    "    print(\"You are either male or tall or both\")\n",
    "else:\n",
    "    print(\"You are neither male nor tall\")"
   ]
  },
  {
   "cell_type": "markdown",
   "metadata": {},
   "source": [
    "If we want to check whether a person is both `is_male` and `is_tall`, then we can use `and` operator. It will be return `true` if both are true."
   ]
  },
  {
   "cell_type": "code",
   "execution_count": 16,
   "metadata": {},
   "outputs": [
    {
     "name": "stdout",
     "output_type": "stream",
     "text": [
      "You are either not male or not tall or not both\n"
     ]
    }
   ],
   "source": [
    "is_male = False\n",
    "is_tall = False\n",
    "\n",
    "if is_male and is_tall:\n",
    "    print(\"You are a tall male\")\n",
    "else:\n",
    "    print(\"You are either not male or not tall or not both\")"
   ]
  },
  {
   "cell_type": "code",
   "execution_count": 17,
   "metadata": {},
   "outputs": [
    {
     "name": "stdout",
     "output_type": "stream",
     "text": [
      "You are a tall male\n"
     ]
    }
   ],
   "source": [
    "is_male = True\n",
    "is_tall = True\n",
    "\n",
    "if is_male and is_tall:\n",
    "    print(\"You are a tall male\")\n",
    "else:\n",
    "    print(\"You are either not male or not tall or not both\")"
   ]
  },
  {
   "cell_type": "code",
   "execution_count": 18,
   "metadata": {},
   "outputs": [
    {
     "name": "stdout",
     "output_type": "stream",
     "text": [
      "You are either not male or not tall or not both\n"
     ]
    }
   ],
   "source": [
    "is_male = True\n",
    "is_tall = False\n",
    "\n",
    "if is_male and is_tall:\n",
    "    print(\"You are a tall male\")\n",
    "else:\n",
    "    print(\"You are either not male or not tall or not both\")"
   ]
  },
  {
   "cell_type": "markdown",
   "metadata": {},
   "source": [
    "If we want to check another condition after the `if` block, we can do so using `elif`(else if) block. The condition inside the `elif` block will be checked when the conidition of the `if` block is `false`(not successful). We can add as many `elif` blocks as we want. If none of the conditions of `if` and `elif` are true, then the statement of `else` block will be executed. Also if we want to check the reverse of a value, i.e., we want to go inside the if or elif block if any condition has failed, then we can use the `not()` function. It will return `true` if the value inside returns `false` and vice versa."
   ]
  },
  {
   "cell_type": "code",
   "execution_count": 19,
   "metadata": {},
   "outputs": [
    {
     "name": "stdout",
     "output_type": "stream",
     "text": [
      "You are a male but not tall\n"
     ]
    }
   ],
   "source": [
    "is_male = True\n",
    "is_tall = False\n",
    "\n",
    "if is_male and is_tall:\n",
    "    print(\"You are a tall male\")\n",
    "elif is_male and not(is_tall): # This will be true if is_tall is false\n",
    "    print(\"You are a male but not tall\")\n",
    "elif not(is_male) and is_tall:\n",
    "    print(\"You are not male but tall\")\n",
    "else:\n",
    "    print(\"You are neither male nor tall\")"
   ]
  },
  {
   "cell_type": "markdown",
   "metadata": {},
   "source": [
    "## If statements & Comparisions\n",
    "Instead of just using boolean values inside if statement, we can compare 2 values and take decision accordingly. We will make a function which will take 3 numbers as input and return the biggest number of all 3"
   ]
  },
  {
   "cell_type": "code",
   "execution_count": 25,
   "metadata": {},
   "outputs": [
    {
     "name": "stdout",
     "output_type": "stream",
     "text": [
      "5\n",
      "40\n",
      "300\n"
     ]
    }
   ],
   "source": [
    "def max_num(num1, num2, num3):\n",
    "    if num1 >= num2 and num1 >= num3:\n",
    "        return num1\n",
    "    elif num2 >= num1 and num2 >= num3:\n",
    "        return num2\n",
    "    else:\n",
    "        return num3\n",
    "print(max(3, 4, 5))\n",
    "print(max(3, 40, 5))\n",
    "print(max(300, 40, 5))"
   ]
  },
  {
   "cell_type": "markdown",
   "metadata": {},
   "source": [
    "In the above code, `>=` and `<=` comparision operators which will check `greater than or equal to` or `less than or equal to` between numbers and return true or false accordingly. `num1 >= num2` will return true if num1 is greater than or equal to num2 otherwise it will return false. Vice versa for `num1 <= num2`. We can compare all datatypes like int, string, boolean,etc.\n",
    "\n",
    "We have the following more comparision operators :-\n",
    "* `==` - This will return `true` if both the values are equal\n",
    "* `!=` - This will return `true` if both the values are not equal\n",
    "* `<` - This will return `true` if value1 is less than value2\n",
    "* `>` - This will return `true` if value1 is greater than value2 "
   ]
  },
  {
   "cell_type": "markdown",
   "metadata": {},
   "source": [
    "## Building a better calculator\n",
    "We created a basic calculator above (`ADD Tag to calc code peice`). But that calculator only took 2 numbers as input and returned addition of those 2 numbers. Now we will build an advanced calculator which will take input 2 numbers as well as the arithmetic operation we wish to perform on those numbers. The calculator will support the basic arithmetic operations."
   ]
  },
  {
   "cell_type": "code",
   "execution_count": 2,
   "metadata": {},
   "outputs": [
    {
     "name": "stdin",
     "output_type": "stream",
     "text": [
      "Enter First Number:  6\n",
      "Enter operator:  *\n",
      "Enter Second Number:  5.23\n"
     ]
    },
    {
     "name": "stdout",
     "output_type": "stream",
     "text": [
      "31.380000000000003\n"
     ]
    }
   ],
   "source": [
    "num1 = float(input(\"Enter First Number: \")) # The input that we get is of data type string. So we are converting it to float type so that we can perform arithmetic operations on it\n",
    "op = input(\"Enter operator: \")\n",
    "num2 = float(input(\"Enter Second Number: \")) # The input that we get is of data type string. So we are converting it to float type so that we can perform arithmetic operations on it\n",
    "\n",
    "if op == '+':\n",
    "    print(num1 + num2)\n",
    "elif op == '-':\n",
    "    print(num1 - num2)\n",
    "elif op == '*':\n",
    "    print(num1 * num2)\n",
    "elif op == '/':\n",
    "    print(num1 / num2)\n",
    "else:\n",
    "    print(\"Invalid operator\")  "
   ]
  },
  {
   "cell_type": "markdown",
   "metadata": {},
   "source": [
    "## Dictionary\n",
    "It is a data structure in python which allows to store data in key value pairs. In this we can access the data using the key. Inside a dictionary, all the keys must be unique. A dictionary is defined by `{}` inside which we enter in data in format `key:value`. If there are multiple key-value pairs, separate by `,`. The Last key value pair does not need `,`. It's kind of like JSON object. To access the data inside a dictionary, we have 2 methods. We can either access by using `[]` or by using `.get()` function of a dictionary.\n",
    "\n",
    "To understand this, we will create a program which will convert 3 digit month name to full month name. For eg, if we enter `Jan`, it will output `January`."
   ]
  },
  {
   "cell_type": "code",
   "execution_count": 8,
   "metadata": {},
   "outputs": [
    {
     "name": "stdout",
     "output_type": "stream",
     "text": [
      "January\n",
      "March\n",
      "This is an invalid key\n",
      "April\n"
     ]
    }
   ],
   "source": [
    "monthConversions = {\n",
    "\"Jan\":\"January\",\n",
    "\"Feb\":\"February\",\n",
    "\"Mar\":\"March\",\n",
    "\"Apr\":\"April\",\n",
    "\"May\":\"May\",\n",
    "\"Jun\":\"June\",\n",
    "\"Jul\":\"July\",\n",
    "\"Aug\":\"August\",\n",
    "\"Sep\":\"September\",\n",
    "\"Oct\":\"October\",\n",
    "\"Nov\":\"November\",\n",
    "\"Dec\":\"December\"\n",
    "}\n",
    "\n",
    "print(monthConversions[\"Jan\"]) # We are acessing value of key \"Jan\" using []\n",
    "\n",
    "print(monthConversions.get(\"Mar\"))\n",
    "\n",
    "print(monthConversions.get(\"Som\",\"This is an invalid key\")) # in the .get method, we can pass a default value which will be returned in case the key is not present in the dictionary\n",
    "print(monthConversions.get(\"Apr\",\"This is an invalid key\"))"
   ]
  },
  {
   "cell_type": "markdown",
   "metadata": {},
   "source": [
    "Dictionary can also have numbers as the keys. "
   ]
  },
  {
   "cell_type": "markdown",
   "metadata": {},
   "source": [
    "## While loop\n",
    "It is a structure which allows us to loop through and execute a code block multiple times. The while loop will keep on executing the code unless it's condition is false."
   ]
  },
  {
   "cell_type": "code",
   "execution_count": null,
   "metadata": {},
   "outputs": [],
   "source": [
    "i = 1\n",
    "\n",
    "while i <= 10: # \"i <= 10\" is the condition of the while loop and the loop will keep on interating the code block unless this condition is false\n",
    "    print(i)\n",
    "    i += 1 # Same as \"i=i+1\"\n",
    "    \n",
    "print(\"Done with loop\")"
   ]
  },
  {
   "cell_type": "markdown",
   "metadata": {},
   "source": [
    "## Building a guessing game\n",
    "This is a basic game in which we will have a secret word and the user will have to guess that secret word. The user will keep on guessing it until the user is able to guess the word correctly. We will keep on taking the input from the user inside a while loop and compare it with the secret word. As soon as the word matches, we will exit the while loop and print the success message"
   ]
  },
  {
   "cell_type": "code",
   "execution_count": 1,
   "metadata": {},
   "outputs": [
    {
     "name": "stdin",
     "output_type": "stream",
     "text": [
      "Enter the guess:  test\n",
      "Enter the guess:  123\n",
      "Enter the guess:  giraffe\n"
     ]
    },
    {
     "name": "stdout",
     "output_type": "stream",
     "text": [
      "You guessed the word correctly. Congratulations!\n"
     ]
    }
   ],
   "source": [
    "secretWord = \"giraffe\"\n",
    "guess = \"\"\n",
    "\n",
    "while guess != secretWord:\n",
    "    guess = input(\"Enter the guess: \")\n",
    "    \n",
    "print(\"You guessed the word correctly. Congratulations!\")"
   ]
  },
  {
   "cell_type": "markdown",
   "metadata": {},
   "source": [
    "But in this, we are continuously asking the word till the user guesses the word correctly. To make the game more interesting, we will give user limited number of chances to guess the word. If the user is unable to guess the word in limited number of  tries, the game is over."
   ]
  },
  {
   "cell_type": "code",
   "execution_count": 3,
   "metadata": {},
   "outputs": [
    {
     "name": "stdin",
     "output_type": "stream",
     "text": [
      "Enter Your Guess:  abc\n",
      "Enter Your Guess:  123\n",
      "Enter Your Guess:  giraffe\n"
     ]
    },
    {
     "name": "stdout",
     "output_type": "stream",
     "text": [
      "Congratulations! You guessed correctly\n"
     ]
    }
   ],
   "source": [
    "secretWord = \"giraffe\"\n",
    "guess = \"\"\n",
    "guessCount = 0\n",
    "guessLimit = 3\n",
    "outOfGuesses = False\n",
    "\n",
    "while guess != secretWord and not(outOfGuesses):\n",
    "    if guessCount < guessLimit:\n",
    "        guess = input(\"Enter Your Guess: \")\n",
    "        guessCount += 1\n",
    "    else:\n",
    "        outOfGuesses = True\n",
    "        \n",
    "if outOfGuesses == True:\n",
    "    print(\"Game over! You lost.\")\n",
    "else:\n",
    "    print(\"Congratulations! You guessed correctly\")"
   ]
  },
  {
   "cell_type": "markdown",
   "metadata": {},
   "source": [
    "## For loop\n",
    "It is a type of loop which allows to loop over different types of collections, like elements of lists, characters of string, etc."
   ]
  },
  {
   "cell_type": "code",
   "execution_count": 1,
   "metadata": {},
   "outputs": [
    {
     "name": "stdout",
     "output_type": "stream",
     "text": [
      "H\n",
      "e\n",
      "l\n",
      "l\n",
      "o\n",
      " \n",
      "W\n",
      "o\n",
      "r\n",
      "l\n",
      "d\n"
     ]
    }
   ],
   "source": [
    "for letter in \"Hello World\": # this will iterate on every letter of String \"Hello World\" and the variable `letter` will contain each of the letter in every iteration sequentially\n",
    "    print(letter)"
   ]
  },
  {
   "cell_type": "code",
   "execution_count": 2,
   "metadata": {},
   "outputs": [
    {
     "name": "stdout",
     "output_type": "stream",
     "text": [
      "John\n",
      "Jane\n",
      "Someone\n",
      "Sparky\n"
     ]
    }
   ],
   "source": [
    "friends = [\"John\",\"Jane\",\"Someone\",\"Sparky\"]\n",
    "\n",
    "for friend in friends: # friend will contain each element of array friends from each iteration\n",
    "    print(friend)"
   ]
  },
  {
   "cell_type": "code",
   "execution_count": 4,
   "metadata": {},
   "outputs": [
    {
     "name": "stdout",
     "output_type": "stream",
     "text": [
      "3\n",
      "4\n",
      "5\n",
      "6\n",
      "7\n",
      "8\n",
      "9\n"
     ]
    }
   ],
   "source": [
    "for index in range(10):\n",
    "    print(index)"
   ]
  },
  {
   "cell_type": "code",
   "execution_count": 5,
   "metadata": {},
   "outputs": [
    {
     "name": "stdout",
     "output_type": "stream",
     "text": [
      "3\n",
      "4\n",
      "5\n",
      "6\n",
      "7\n",
      "8\n",
      "9\n"
     ]
    }
   ],
   "source": [
    "for index in range(3, 10):\n",
    "    print(index)"
   ]
  },
  {
   "cell_type": "markdown",
   "metadata": {},
   "source": [
    "Range is a function whichs is used to procedurally generate numbers. If we pass only 1 value to range function `n`, it will generate numbers in sequence from 0 to `n-1` with `+1` between each value. If we pass 2 values `m` and `n`, it will generate numbers from `m` to `n` with `+1` gap in between."
   ]
  },
  {
   "cell_type": "code",
   "execution_count": 1,
   "metadata": {},
   "outputs": [
    {
     "name": "stdout",
     "output_type": "stream",
     "text": [
      "John\n",
      "Jane\n",
      "Someone\n",
      "Sparky\n"
     ]
    }
   ],
   "source": [
    "friends = [\"John\",\"Jane\",\"Someone\",\"Sparky\"]\n",
    "\n",
    "for index in range(len(friends)): # len function is used to get the nuumber of elements in the list\n",
    "    print(friends[index])   "
   ]
  },
  {
   "cell_type": "markdown",
   "metadata": {},
   "source": [
    "## Exponent function\n",
    "An exponent function is a function which powers a number to another number, `n^m`. This can be done directly using `n ** m` in python, but we will create a function to do so."
   ]
  },
  {
   "cell_type": "code",
   "execution_count": 9,
   "metadata": {},
   "outputs": [
    {
     "name": "stdout",
     "output_type": "stream",
     "text": [
      "729\n"
     ]
    }
   ],
   "source": [
    "def raiseToPower(baseNum, powNum):\n",
    "    result = 1\n",
    "    for index in range(powNum):\n",
    "        result *= baseNum\n",
    "    return result\n",
    "        \n",
    "print(raiseToPower(9,3))"
   ]
  },
  {
   "cell_type": "markdown",
   "metadata": {},
   "source": [
    "## 2D Lists & Nested Loops\n"
   ]
  },
  {
   "cell_type": "code",
   "execution_count": 13,
   "metadata": {},
   "outputs": [
    {
     "name": "stdout",
     "output_type": "stream",
     "text": [
      "1\n",
      "8\n",
      "[1, 2, 3]\n",
      "[4, 5, 6]\n",
      "[7, 8, 9]\n",
      "[0]\n"
     ]
    }
   ],
   "source": [
    "# In the below list, we have 4 elements and each element is a list\n",
    "numberGrid = [\n",
    "    [1,2,3],\n",
    "    [4,5,6],\n",
    "    [7,8,9],\n",
    "    [0]\n",
    "]\n",
    "\n",
    "print(numberGrid[0][0]) # We are accessing 0 index element of numberGrid and then accessing 0th index element of that list inside numberGrid\n",
    "print(numberGrid[2][1])\n"
   ]
  },
  {
   "cell_type": "code",
   "execution_count": 15,
   "metadata": {},
   "outputs": [
    {
     "name": "stdout",
     "output_type": "stream",
     "text": [
      "[1, 2, 3]\n",
      "[4, 5, 6]\n",
      "[7, 8, 9]\n",
      "[0]\n",
      "1\n",
      "2\n",
      "3\n",
      "4\n",
      "5\n",
      "6\n",
      "7\n",
      "8\n",
      "9\n",
      "0\n"
     ]
    }
   ],
   "source": [
    "numberGrid = [\n",
    "    [1,2,3],\n",
    "    [4,5,6],\n",
    "    [7,8,9],\n",
    "    [0]\n",
    "]\n",
    "\n",
    "for row in numberGrid:\n",
    "    print(row)\n",
    "\n",
    "#2D for loop to iterate over grid\n",
    "for row in numberGrid:\n",
    "    for col in row:\n",
    "        print(col)"
   ]
  },
  {
   "cell_type": "markdown",
   "metadata": {},
   "source": [
    "## Time - 02:52:40"
   ]
  },
  {
   "cell_type": "code",
   "execution_count": null,
   "metadata": {},
   "outputs": [],
   "source": []
  }
 ],
 "metadata": {
  "kernelspec": {
   "display_name": "Python 3",
   "language": "python",
   "name": "python3"
  },
  "language_info": {
   "codemirror_mode": {
    "name": "ipython",
    "version": 3
   },
   "file_extension": ".py",
   "mimetype": "text/x-python",
   "name": "python",
   "nbconvert_exporter": "python",
   "pygments_lexer": "ipython3",
   "version": "3.7.6"
  }
 },
 "nbformat": 4,
 "nbformat_minor": 4
}
