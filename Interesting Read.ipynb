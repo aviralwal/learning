{
 "cells": [
  {
   "cell_type": "markdown",
   "metadata": {},
   "source": [
    "Jupyter Architecture"
   ]
  },
  {
   "cell_type": "markdown",
   "metadata": {},
   "source": [
    "Central componenet is notebook server. It loads and serves the notebook file and sends it to the browser. Browser interacts with the notebook server using websockets. Notebook server is responsible for keeping state. It communicates with kernel which is a wrapper which wraps the execution framework, like python interpreter\n",
    "\n",
    "The limitation that Jupyer notebook or JupyterLab has is scalability and security. If the JupyterLab is installed in 1 machine, all the instances will execute in that single machine locally, even though we might have more instances. To mitigate that, we can use the [Jupyter Enterprise Gateway](https://jupyter.org/enterprise_gateway/). In this, we have a proxy server and behind that proxy server is a cluster of machines and the proxy server decides on which machine a particular instance of notebook server should run.\n",
    "\n",
    "List of interesting Jupyter Notebooks - https://github.com/jupyter/jupyter/wiki/A-gallery-of-interesting-Jupyter-Notebooks\n",
    "Jupyter Notebook viewer - https://nbviewer.jupyter.org/"
   ]
  }
 ],
 "metadata": {
  "kernelspec": {
   "display_name": "",
   "name": ""
  },
  "language_info": {
   "name": ""
  }
 },
 "nbformat": 4,
 "nbformat_minor": 4
}
