{
 "cells": [
  {
   "cell_type": "markdown",
   "metadata": {},
   "source": [
    "# Data Analysis "
   ]
  },
  {
   "cell_type": "markdown",
   "metadata": {},
   "source": [
    "## Definition\n",
    "\n",
    "Data analysis is a process of `inspecting`, `cleansing`, `transforming and modeling data` with the goal of `discovering useful information`, `informing conclusions and supporting decision-making`. \n",
    "\n",
    "* First part of data analysis is gathering data data, cleaning the data to remove all the garbage data and transforming the data to the form that we can use.\n",
    "* Modelling data is the process applying real world scenarios to the data models that we create. This is done using statistical tools\n",
    "* Discovering useful information means that from all the data that we have gathered and processed, we want to derive information\n",
    "* Informing conclusions and support decision making is the final step of data analysis. Once we have derived useful information from the data , we want to use that * information to make better informed decisions and come to an informed conclusion."
   ]
  },
  {
   "cell_type": "markdown",
   "metadata": {},
   "source": [
    "Part 1: Introduction\n",
    "\n",
    "Part 2: Real Life Example of a Python/Pandas Data Analysis project 00:11:11\n",
    "\n",
    "Part 3: Jupyter Notebooks Tutorial (00:30:50)\n",
    "\n",
    "Part 4: Intro to NumPy (01:04:58), (01:30:00)\n",
    "\n",
    "Part 5: Intro to Pandas (01:57:08), (02:36:46)\n",
    "\n",
    "Part 6: Data Cleaning (02:47:18)\n",
    "\n",
    "Part 7: Reading Data from other sources (03:25:15)\n",
    "\n",
    "Part 8: Python Recap (03:55:19)\n",
    "\n",
    "⭐️ Course Contents ⭐️\n",
    "\n",
    "⌨️ Part 1: Introduction\n",
    "\n",
    "What is Data Analysis, why Python?, what other options are there? what's the cycle of a Data Analysis project? What's the difference between Data Analysis and Data Science?\n",
    "\n",
    "🔗 Slides for this section: https://docs.google.com/presentation/d/1fDpjlyMiOMJyuc7_jMekcYLPP2XlSl1eWw9F7yE7byk/edit\n",
    "\n",
    "\n",
    "⌨️ Part 2: Real Life Example of a Python/Pandas Data Analysis project (00:11:11)\n",
    "\n",
    "A demonstration of a real life data analysis project using Python, Pandas, SQL and Seaborn. Don't worry, we'll dig deeper in the following sections\n",
    "\n",
    "🔗 Notebooks: https://notebooks.ai/rmotr-curriculum/freecodecamp-pandas-real-life-example-24fa5bf8\n",
    "\n",
    "\n",
    "⌨️ Part 3: Jupyter Notebooks Tutorial (00:30:50)\n",
    "\n",
    "A step by step tutorial to learn how to use Juptyer Notebooks\n",
    "\n",
    "🔗 Twitter Cheat Sheet: https://twitter.com/rmotr_com/status/1122176794696847361\n",
    "\n",
    "🔗 Notebooks: https://notebooks.ai/rmotr-curriculum/interactive-jupyterlab-tutorial-ac5fa63f\n",
    "\n",
    "\n",
    "⌨️ Part 4: Intro to NumPy (01:04:58)\n",
    "\n",
    "Learn why NumPy was such an important library for the data-processing world in Python. Learn about low level details of computations and memory storage, and why tools like Excel will always be limited when processing large volumes of data.\n",
    "\n",
    "🔗 Notebooks: https://notebooks.ai/rmotr-curriculum/freecodecamp-intro-to-numpy-6c285b74\n",
    "\n",
    "\n",
    "⌨️ Part 5: Intro to Pandas (01:57:08)\n",
    "\n",
    "Pandas is arguably the most important library for Data Processing in the Python world. Learn how it works and how its main data structure, the Data Frame, compares to other tools like spreadsheets or DFs used for Big Data\n",
    "\n",
    "🔗 Notebooks: https://notebooks.ai/rmotr-curriculum/freecodecamp-intro-to-pandas-902ae59b\n",
    "\n",
    "\n",
    "⌨️ Part 6: Data Cleaning (02:47:18)\n",
    "\n",
    "Learn the different types of issues that we'll face with our data: null values, invalid values, statistical outliers, etc, and how to clean them.\n",
    "\n",
    "🔗 Notebooks: https://notebooks.ai/rmotr-curriculum/data-cleaning-rmotr-freecodecamp-fd76fa59\n",
    "\n",
    "\n",
    "⌨️ Part 7: Reading Data from other sources (03:25:15)\n",
    "\n",
    "🔗 Reading CSVs: https://notebooks.ai/rmotr-curriculum/rdp-reading-csv-and-txt-files-fb829f46\n",
    "\n",
    "🔗 Reading SQL: https://notebooks.ai/rmotr-curriculum/rdp-reading-data-from-relational-databases-2a3a889b\n",
    "\n",
    "🔗 Reading HTML: https://notebooks.ai/rmotr-curriculum/rdp-reading-html-tables-eb9cca73\n",
    "\n",
    "🔗 Reading Excel files: https://notebooks.ai/rmotr-curriculum/rdp-reading-excel-files-a6b99973\n",
    "\n",
    "\n",
    "\n",
    "⌨️ Part 8: Python Recap (03:55:19)\n",
    "\n",
    "If your Python or coding skills are rusty, check out this section for a quick recap of Python main features and control flow structures.\n",
    "\n",
    "🔗 Notebooks: https://notebooks.ai/rmotr-curriculum/python-under-10-minutes-15addcb2"
   ]
  },
  {
   "cell_type": "markdown",
   "metadata": {},
   "source": [
    "![purple-divider](https://user-images.githubusercontent.com/7065401/52071927-c1cd7100-2562-11e9-908a-dde91ba14e59.png)"
   ]
  },
  {
   "cell_type": "markdown",
   "metadata": {},
   "source": [
    "How to Follow :- \n",
    "1. Numpy\n",
    "2. Pandas - 1 - Series.ipynb\n",
    "3. Pandas - 2 - DataFrame.ipynb\n",
    "4. Pandas - 3 - Reading CSV and Basic Plotting.ipynb"
   ]
  },
  {
   "cell_type": "markdown",
   "metadata": {},
   "source": [
    "![purple-divider](https://user-images.githubusercontent.com/7065401/52071927-c1cd7100-2562-11e9-908a-dde91ba14e59.png)"
   ]
  },
  {
   "cell_type": "markdown",
   "metadata": {},
   "source": [
    "## Pandas\n",
    "\n",
    "Pandas is one of the most important data analysis library that we use in Python.\n",
    "\n",
    "We do the following by using Pandas\n",
    "* Getting the data from multiple sources like db, csv, excel, etc\n",
    "* Processind the data like merging, combining, doing different types of analysis\n",
    "* Visualising data like creating charts etc\n",
    "* Creating reports \n",
    "* Doing statistical analysis and doing machine learning using other libraries\n",
    "\n",
    "Pandas has 2 main data structures\n",
    "* Series\n",
    "* Data frames"
   ]
  },
  {
   "cell_type": "markdown",
   "metadata": {},
   "source": [
    "![purple-divider](https://user-images.githubusercontent.com/7065401/52071927-c1cd7100-2562-11e9-908a-dde91ba14e59.png)"
   ]
  }
 ],
 "metadata": {
  "kernelspec": {
   "display_name": "Python 3",
   "language": "python",
   "name": "python3"
  },
  "language_info": {
   "codemirror_mode": {
    "name": "ipython",
    "version": 3
   },
   "file_extension": ".py",
   "mimetype": "text/x-python",
   "name": "python",
   "nbconvert_exporter": "python",
   "pygments_lexer": "ipython3",
   "version": "3.7.6"
  }
 },
 "nbformat": 4,
 "nbformat_minor": 4
}
