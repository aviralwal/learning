{
 "cells": [
  {
   "cell_type": "markdown",
   "metadata": {},
   "source": [
    "Coruse Link - https://www.youtube.com/watch?v=rfscVS0vtbw"
   ]
  },
  {
   "cell_type": "markdown",
   "metadata": {},
   "source": [
    "## Taking Input from user\n",
    "To take input from user in python, we use the command `input`. This takes a single optional arg called `prompt` which is a message printed before the input is being taken."
   ]
  },
  {
   "cell_type": "code",
   "execution_count": 2,
   "metadata": {},
   "outputs": [
    {
     "name": "stdin",
     "output_type": "stream",
     "text": [
      "Enter your name:  aviral\n"
     ]
    },
    {
     "name": "stdout",
     "output_type": "stream",
     "text": [
      "Hello aviral\n"
     ]
    }
   ],
   "source": [
    "name = input(\"Enter your name: \")\n",
    "print(\"Hello \" + name)"
   ]
  },
  {
   "cell_type": "code",
   "execution_count": 3,
   "metadata": {},
   "outputs": [
    {
     "name": "stdin",
     "output_type": "stream",
     "text": [
      "Enter your age:  13\n"
     ]
    },
    {
     "name": "stdout",
     "output_type": "stream",
     "text": [
      "You are 13 years old\n"
     ]
    }
   ],
   "source": [
    "age = input(\"Enter your age: \")\n",
    "print(\"You are \" + age +\" years old\")"
   ]
  },
  {
   "cell_type": "code",
   "execution_count": 1,
   "metadata": {},
   "outputs": [
    {
     "name": "stdin",
     "output_type": "stream",
     "text": [
      "Enter a number:  1\n",
      "Enter another number:  2\n"
     ]
    },
    {
     "name": "stdout",
     "output_type": "stream",
     "text": [
      "12\n"
     ]
    }
   ],
   "source": [
    "num1 = input(\"Enter a number: \")\n",
    "num2 = input(\"Enter another number: \")\n",
    "result = num1 + num2\n",
    "print(result)"
   ]
  },
  {
   "cell_type": "markdown",
   "metadata": {},
   "source": [
    "The program should have added the nnumbers but it gave something else. This is because when we input any value, python converts it automatically to string. So the values we have are not int type but string type. Due to this the values get appended instead of getting added. To solve this, we can just type convert values to int"
   ]
  },
  {
   "cell_type": "markdown",
   "metadata": {},
   "source": [
    "num1 = input(\"Enter a number: \")\n",
    "num2 = input(\"Enter another number: \")\n",
    "result = int(num1) + int(num2) # int function will convert the values inside to integer values(whole numbers)\n",
    "print(result)"
   ]
  },
  {
   "cell_type": "code",
   "execution_count": null,
   "metadata": {},
   "outputs": [],
   "source": []
  }
 ],
 "metadata": {
  "kernelspec": {
   "display_name": "Python 3",
   "language": "python",
   "name": "python3"
  },
  "language_info": {
   "codemirror_mode": {
    "name": "ipython",
    "version": 3
   },
   "file_extension": ".py",
   "mimetype": "text/x-python",
   "name": "python",
   "nbconvert_exporter": "python",
   "pygments_lexer": "ipython3",
   "version": "3.7.6"
  }
 },
 "nbformat": 4,
 "nbformat_minor": 4
}
