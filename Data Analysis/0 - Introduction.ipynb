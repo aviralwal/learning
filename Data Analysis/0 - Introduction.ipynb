{
 "cells": [
  {
   "cell_type": "markdown",
   "metadata": {},
   "source": [
    "# Data Analysis "
   ]
  },
  {
   "cell_type": "markdown",
   "metadata": {},
   "source": [
    "## Definition\n",
    "\n",
    "Data analysis is a process of `inspecting`, `cleansing`, `transforming and modeling data` with the goal of `discovering useful information`, `informing conclusions and supporting decision-making`. \n",
    "\n",
    "* First part of data analysis is gathering data data, cleaning the data to remove all the garbage data and transforming the data to the form that we can use.\n",
    "* Modelling data is the process applying real world scenarios to the data models that we create. This is done using statistical tools\n",
    "* Discovering useful information means that from all the data that we have gathered and processed, we want to derive information\n",
    "* Informing conclusions and support decision making is the final step of data analysis. Once we have derived useful information from the data , we want to use that * information to make better informed decisions and come to an informed conclusion."
   ]
  },
  {
   "cell_type": "markdown",
   "metadata": {},
   "source": [
    "![purple-divider](https://user-images.githubusercontent.com/7065401/52071927-c1cd7100-2562-11e9-908a-dde91ba14e59.png)"
   ]
  },
  {
   "cell_type": "markdown",
   "metadata": {},
   "source": [
    "How to Follow :- \n",
    "1. Numpy\n",
    "2. Pandas - 1 - Series.ipynb\n",
    "3. Pandas - 2 - DataFrame.ipynb\n",
    "4. Pandas - 3 - Reading CSV and Basic Plotting.ipynb\n",
    "5. Data cleaning and visualization\n",
    "6. Reading data"
   ]
  },
  {
   "cell_type": "markdown",
   "metadata": {},
   "source": [
    "![purple-divider](https://user-images.githubusercontent.com/7065401/52071927-c1cd7100-2562-11e9-908a-dde91ba14e59.png)"
   ]
  },
  {
   "cell_type": "markdown",
   "metadata": {},
   "source": [
    "## Pandas\n",
    "\n",
    "Pandas is one of the most important data analysis library that we use in Python.\n",
    "\n",
    "We do the following by using Pandas\n",
    "* Getting the data from multiple sources like db, csv, excel, etc\n",
    "* Processind the data like merging, combining, doing different types of analysis\n",
    "* Visualising data like creating charts etc\n",
    "* Creating reports \n",
    "* Doing statistical analysis and doing machine learning using other libraries\n",
    "\n",
    "Pandas has 2 main data structures\n",
    "* Series\n",
    "* Data frames"
   ]
  },
  {
   "cell_type": "markdown",
   "metadata": {},
   "source": [
    "![purple-divider](https://user-images.githubusercontent.com/7065401/52071927-c1cd7100-2562-11e9-908a-dde91ba14e59.png)"
   ]
  }
 ],
 "metadata": {
  "kernelspec": {
   "display_name": "Python 3",
   "language": "python",
   "name": "python3"
  },
  "language_info": {
   "codemirror_mode": {
    "name": "ipython",
    "version": 3
   },
   "file_extension": ".py",
   "mimetype": "text/x-python",
   "name": "python",
   "nbconvert_exporter": "python",
   "pygments_lexer": "ipython3",
   "version": "3.7.6"
  }
 },
 "nbformat": 4,
 "nbformat_minor": 4
}
