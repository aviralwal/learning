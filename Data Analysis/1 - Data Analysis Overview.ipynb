{
 "cells": [
  {
   "cell_type": "markdown",
   "metadata": {},
   "source": [
    "# Data Analysis "
   ]
  },
  {
   "cell_type": "markdown",
   "metadata": {},
   "source": [
    "## Definition\n",
    "\n",
    "Data analysis is a process of **inspecting, cleansing, transforming and modeling** data with the goal of discovering**useful information, informing conclusions and supporting decision-making**. \n",
    "\n",
    "* First part of data analysis is gathering data data, cleaning the data to remove all the garbage data and transforming the data to the form that we can use.\n",
    "* Then comes modelling data which is the process applying real world scenarios to the data models that we create. This is done using statistical tools\n",
    "* Discovering useful information means that from all the data that we have gathered and processed, we want to derive information\n",
    "* Informing conclusions and support decision making is the final step of data analysis. Once we have derived useful information from the data, we want to use that information to make better informed decisions and come to an informed conclusion.\n",
    "\n",
    "In simpler terms, we can say that Data analysis is the process to help us answer questions from data."
   ]
  },
  {
   "cell_type": "markdown",
   "metadata": {},
   "source": [
    "## Process \n",
    "\n",
    "Steps -\n",
    "1. Understanding the problem and importing data"
   ]
  },
  {
   "cell_type": "markdown",
   "metadata": {},
   "source": [
    "## Python packages for data analysis\n",
    "\n",
    "* Scientific computing - \n",
    "    * Pandas\n",
    "    * NumPy\n",
    "    * SciPy\n",
    "* Visualization -\n",
    "    * Matplotlib\n",
    "    * Seaborn\n",
    "* Algorithmic(generally for ml algo) -\n",
    "    * Scikit-Learn\n",
    "    * Statsmodels"
   ]
  },
  {
   "cell_type": "code",
   "execution_count": null,
   "metadata": {},
   "outputs": [],
   "source": []
  }
 ],
 "metadata": {
  "kernelspec": {
   "display_name": "Python 3",
   "language": "python",
   "name": "python3"
  },
  "language_info": {
   "codemirror_mode": {
    "name": "ipython",
    "version": 3
   },
   "file_extension": ".py",
   "mimetype": "text/x-python",
   "name": "python",
   "nbconvert_exporter": "python",
   "pygments_lexer": "ipython3",
   "version": "3.7.6"
  },
  "toc-autonumbering": false
 },
 "nbformat": 4,
 "nbformat_minor": 4
}
