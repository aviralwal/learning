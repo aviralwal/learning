{
 "cells": [
  {
   "cell_type": "markdown",
   "metadata": {
    "tags": []
   },
   "source": [
    "# Analysing data to answer questions\n",
    "\n",
    "Now that data understanding is completed and the data is gathered and organized as well as the data is processed, the next step is to start the actual analysis part of the data. The goal of analysis is to identify trends and relationships within the data so that you can accurately answer the question you're asking. To do this, you should stick to the 4 phases of analysis: \n",
    "* organize data\n",
    "* format and adjust data\n",
    "* get input from others\n",
    "* transform data by observing relationships between data points and making calculations."
   ]
  },
  {
   "cell_type": "markdown",
   "metadata": {},
   "source": [
    "## Organize data\n",
    "\n",
    "Data is generally organized in table format. Important to knwo how data is organized in order to identify data to be used and how to proceed with analysis part. Data can be kept organized by using sorting and filtering\n",
    "\n",
    "Sorting is arranging data into a meaningful order to make it easier to understand, analyze, and visualize. In spreadsheet, it can be done by `SORT` function. In SQL, it can be done by `ORDER BY` clause.\n",
    " \n",
    "Filtering is showing only the data that meets a specific criteria while hiding the rest. In spreadsheet, we can use the tables to filter data. In SQL, it can be done by `WHERE` clause. If we want to apply multiple filters, we can use `AND` between each search"
   ]
  },
  {
   "cell_type": "markdown",
   "metadata": {},
   "source": [
    "## Convert and format data\n",
    "\n",
    "After after typecasting in data preperation stage, it is possible that the data is not in the correct format that is required for analysis. Due to this, it is important to analyse the data format and validate that the data is in correct format to be used for analysis. In spreadsheet, we can do this by `CONVERT` function. It can convert data from any format to another, like different date formats, 1 currecy symbol to another or Farhenheit to celcius, etc.\n",
    "\n",
    "Data validation function in spreadsheet allows you to control what can and can't be entered in your worksheet. It allows to \n",
    "* Add drop-down lists to cells with predetermined options for users to choose from.\n",
    "* Create custom checkboxes\n",
    "* Protect structured data and formulas\n",
    "\n",
    "We can use conditional formatting to apply certain formatting based on data in order to visually see the changes or trends. For example, color coding the cells like red for incomplete and green for complete, etc.\n",
    "\n",
    "`CONCAT` function in SQL can be used to combine data from multiple columns into a single filed in `SELECT` to form new data for analysis.\n",
    "\n",
    "`LEN`,`FIND`,`LEFT` and `RIGHT` function in spreadsheets can be used to break data as per requirement, like separating data and time from a date time field."
   ]
  },
  {
   "cell_type": "markdown",
   "metadata": {},
   "source": [
    "## Aggregate data for analysis\n",
    "\n",
    "Aggregation means collecting or gathering many separate pieces into a whole. Data aggregation is the process of gathering data from multiple sources in order to combine it into a single summarized collection. Aggregation helps in generating a summary about the data which can help in gathering insights. For ex, aggregating high school graduates information can help in identifying graduation rate or other information.\n",
    "\n",
    "Spreadsheets -\n",
    "* `VLOOKUP` is a data aggregation tool in spreadsheets. It can be used to populate data in spreadsheet or to merge data from 1 spreadsheet to another\n",
    "*  `VALUE` is a function that converts a text string that represents a number to a numerical value.\n",
    "\n",
    "SQL - \n",
    "* `JOIN` is a SQL clause that's used to combine rows from two or more tables based on a related column. There are four common JOINs data analysts use, inner, left, right, and outer. JOINs help you combine matching or related columns from different tables. An inner JOIN is a function that returns records with matching values in both tables. When we input JOIN into SQL, it usually defaults to inner JOIN. A LEFT JOIN is a function that will return all the records from the left table and only the matching records from the right table. RIGHT JOIN does the opposite. It will return all records from the right table and only the matching records from the left.  OUTER join combines RIGHT and LEFT JOIN to return all matching records in both tables. This means it will return all records in both tables. \n",
    "* `COUNT` can be used to count the total number of numerical values within a specific range in spreadsheets. `COUNT DISTINCT` is a query that only returns the distinct values in that range.\n",
    "* A `subquery` is a SQL query that is nested inside of a larger query. With subqueries you can combine different pieces of logic together. Because the logic of your outer query relies on the inner query, you can get more done with a single query. The innermost query executes first.\n",
    "* `HAVING` basically allows you to add a filter to your query instead of the underlying table when you're working with aggregate functions.\n",
    "* `CASE` returns records with your conditions by allowing you to include if/then statements in your query."
   ]
  },
  {
   "cell_type": "markdown",
   "metadata": {},
   "source": [
    "## Calculate data\n",
    "\n",
    "Some common methods include sum, average, , max, min, percentage calculation like growth, etc.\n",
    "\n",
    "Following functions in spreadsheets can be used for calculations -\n",
    "* `COUNTIF` returns the number of cells that match a specified value.\n",
    "* `SUMIF` is a function that adds numeric data based on one condition.\n",
    "* `SUMPRODUCT` is a function that multiplies arrays and returns the sum of those products. An array is kind of like a range in a spreadsheet. An array is a collection of values in cells, not the cells themselves.\n",
    "* Pivot table can be used to perform calculations and summarize data.\n",
    "* Summary table is a table used to summarize statistical information about data.\n",
    "\n",
    "\n",
    "In SQL, we can perform calulcations in the SELECT portion of the query using the arithmetic operations(BODMAS rule).\n",
    "* `EXTRACT` command lets us pull one part of a given date to use. \n",
    "* `WITH` clause is a type of temporary table that you can query from multiple times. A temporary table is a database table that is created and exists temporarily on a database server.\n",
    "* `SELECT INTO` statement copies data from one table into a new table but it doesn't add the new table to the database. \n",
    "\n"
   ]
  },
  {
   "cell_type": "markdown",
   "metadata": {},
   "source": [
    "## Data validation process\n",
    "\n",
    "Data validation process involves checking and rechecking the quality of data so that it is complete, accurate, secure, and consistent. This will help you understand your data, check that it's clean, and make sure you're aligning with your business objectives. Types of validations - \n",
    "1. Data type - Check that the data matches the data type defined for a field.\n",
    "2. Data range - Check that the data falls within an acceptable range of values defined for the field.\n",
    "3. Data constraints - Check that the data meets certain conditions or criteria for a field. This includes the type of data entered as well as other attributes of the field, such as number of characters. \n",
    "4. Data consistency - Check that the data makes sense in the context of other related data.\n",
    "5. Data structure - Check that the data follows or conforms to a set structure.\n",
    "6. Code validation - Check that the application code systematically performs any of the previously mentioned validations during user data input."
   ]
  }
 ],
 "metadata": {
  "kernelspec": {
   "display_name": "Python 3 (ipykernel)",
   "language": "python",
   "name": "python3"
  },
  "language_info": {
   "codemirror_mode": {
    "name": "ipython",
    "version": 3
   },
   "file_extension": ".py",
   "mimetype": "text/x-python",
   "name": "python",
   "nbconvert_exporter": "python",
   "pygments_lexer": "ipython3",
   "version": "3.9.6"
  },
  "toc-autonumbering": false,
  "toc-showcode": false
 },
 "nbformat": 4,
 "nbformat_minor": 4
}
