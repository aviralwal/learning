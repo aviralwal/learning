{
 "cells": [
  {
   "cell_type": "markdown",
   "metadata": {
    "tags": []
   },
   "source": [
    "# Analysing data to answer questions\n",
    "\n",
    "Now that data understanding is completed and the data is gathered and organized as well as the data is processed, the next step is to start the actual analysis part of the data. The goal of analysis is to identify trends and relationships within the data so that you can accurately answer the question you're asking. To do this, you should stick to the 4 phases of analysis: \n",
    "* organize data\n",
    "* format and adjust data\n",
    "* get input from others\n",
    "* transform data by observing relationships between data points and making calculations."
   ]
  },
  {
   "cell_type": "markdown",
   "metadata": {},
   "source": [
    "## Organize data\n",
    "\n",
    "Data is generally organized in table format. Important to knwo how data is organized in order to identify data to be used and how to proceed with analysis part. Data can be kept organized by using sorting and filtering\n",
    "\n",
    "Sorting is arranging data into a meaningful order to make it easier to understand, analyze, and visualize. In spreadsheet, it can be done by `SORT` function. In SQL, it can be done by `ORDER BY` clause.\n",
    " \n",
    "Filtering is showing only the data that meets a specific criteria while hiding the rest. In spreadsheet, we can use the tables to filter data. In SQL, it can be done by `WHERE` clause. If we want to apply multiple filters, we can use `AND` between each search"
   ]
  },
  {
   "cell_type": "markdown",
   "metadata": {},
   "source": [
    "## Convert and format data\n",
    "\n",
    "After after typecasting in data preperation stage, it is possible that the data is not in the correct format that is required for analysis. Due to this, it is important to analyse the data format and validate that the data is in correct format to be used for analysis. In spreadsheet, we can do this by `CONVERT` function. It can convert data from any format to another, like different date formats, 1 currecy symbol to another or Farhenheit to celcius, etc.\n",
    "\n",
    "Data validation function in spreadsheet allows you to control what can and can't be entered in your worksheet. It allows to \n",
    "* Add drop-down lists to cells with predetermined options for users to choose from.\n",
    "* Create custom checkboxes\n",
    "* Protect structured data and formulas\n",
    "\n",
    "We can use conditional formatting to apply certain formatting based on data in order to visually see the changes or trends. For example, color coding the cells like red for incomplete and green for complete, etc.\n",
    "\n",
    "`CONCAT` function in SQL can be used to combine data from multiple columns into a single filed in `SELECT` to form new data for analysis.\n",
    "\n",
    "`LEN`,`FIND`,`LEFT` and `RIGHT` function in spreadsheets can be used to break data as per requirement, like separating data and time from a date time field."
   ]
  },
  {
   "cell_type": "markdown",
   "metadata": {},
   "source": [
    "## Aggregate data for analysis\n",
    "\n",
    "Aggregation means collecting or gathering many separate pieces into a whole. Data aggregation is the process of gathering data from multiple sources in order to combine it into a single summarized collection. Aggregation helps in generating a summary about the data which can help in gathering insights. For ex, aggregating high school graduates information can help in identifying graduation rate or other information.\n",
    "\n",
    "Spreadsheets -\n",
    "* `VLOOKUP` is a data aggregation tool in spreadsheets.\n",
    "*  `VALUE` is a function that converts a text string that represents a number to a numerical value."
   ]
  }
 ],
 "metadata": {
  "kernelspec": {
   "display_name": "Python 3 (ipykernel)",
   "language": "python",
   "name": "python3"
  },
  "language_info": {
   "codemirror_mode": {
    "name": "ipython",
    "version": 3
   },
   "file_extension": ".py",
   "mimetype": "text/x-python",
   "name": "python",
   "nbconvert_exporter": "python",
   "pygments_lexer": "ipython3",
   "version": "3.9.6"
  },
  "toc-autonumbering": false,
  "toc-showcode": false
 },
 "nbformat": 4,
 "nbformat_minor": 4
}
