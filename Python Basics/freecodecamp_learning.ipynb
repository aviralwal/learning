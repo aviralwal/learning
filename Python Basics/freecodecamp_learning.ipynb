{
 "cells": [
  {
   "cell_type": "markdown",
   "metadata": {},
   "source": [
    "# Basic Python Learning\n",
    "\n",
    "## Information \n",
    "\n",
    "The course refered is [basic python](https://www.youtube.com/watch?v=rfscVS0vtbw) course from freecodecamp. "
   ]
  },
  {
   "cell_type": "markdown",
   "metadata": {},
   "source": [
    "## Hello World\n",
    "\n",
    "As a programming tradition of sort, the first program that we create when first learning a new language is creating a __Hello World__ program. This is a simple program which prints out `Hello World` when we run the program. In python, printing anything is done using `print` function. In this, we just type what we want to print and it prints it"
   ]
  },
  {
   "cell_type": "code",
   "execution_count": 1,
   "metadata": {},
   "outputs": [
    {
     "name": "stdout",
     "output_type": "stream",
     "text": [
      "Hello World\n"
     ]
    }
   ],
   "source": [
    "print(\"Hello World\")"
   ]
  },
  {
   "cell_type": "markdown",
   "metadata": {},
   "source": [
    "## Drawing a shape\n",
    "When we create a python program, we are essentially providing pythons some steps and telling it to execute them in the order we specify and it does that when we execute or run the program."
   ]
  },
  {
   "cell_type": "code",
   "execution_count": 2,
   "metadata": {},
   "outputs": [
    {
     "name": "stdout",
     "output_type": "stream",
     "text": [
      "   /|\n",
      "  / |\n",
      " /  |\n",
      "/___|\n"
     ]
    }
   ],
   "source": [
    "print(\"   /|\")\n",
    "print(\"  / |\")\n",
    "print(\" /  |\")\n",
    "print(\"/___|\")"
   ]
  },
  {
   "cell_type": "markdown",
   "metadata": {},
   "source": [
    "As we can see, we told it to print something(using the `print` comamnd) and it executed in the order we told it to and hence created a shape. Python allows us basically this. We can provide the instructions to be perfromed in form of python code and it executes the code and performs the actions. The order of instructions is important. If we change the order, the order of execution also changes."
   ]
  },
  {
   "cell_type": "code",
   "execution_count": 3,
   "metadata": {},
   "outputs": [
    {
     "name": "stdout",
     "output_type": "stream",
     "text": [
      "/___|\n",
      "   /|\n",
      "  / |\n",
      " /  |\n"
     ]
    }
   ],
   "source": [
    "print(\"/___|\")\n",
    "print(\"   /|\")\n",
    "print(\"  / |\")\n",
    "print(\" /  |\")"
   ]
  },
  {
   "cell_type": "markdown",
   "metadata": {},
   "source": [
    "## Variables and strings\n",
    "\n",
    "In Python we will be dealing with a lot of data and sometimes it can be difficult to manage. To manage the data, we can use something called variables. Variables allow us to store some data that we can easily manage."
   ]
  },
  {
   "cell_type": "code",
   "execution_count": 4,
   "metadata": {},
   "outputs": [
    {
     "name": "stdout",
     "output_type": "stream",
     "text": [
      "There was once a man named Geroge,\n",
      "he was 70 years old\n",
      "He really liked the name George\n",
      "but he didn't like being 70\n"
     ]
    }
   ],
   "source": [
    "print(\"There was once a man named Geroge,\")\n",
    "print(\"he was 70 years old\")\n",
    "print(\"He really liked the name George\")\n",
    "print(\"but he didn't like being 70\")"
   ]
  },
  {
   "cell_type": "markdown",
   "metadata": {},
   "source": [
    "We see that it is a simple program in which we are printing some lines(kind of like a story). But let's say we want to change the name `George` to `John`. 1 way to do is we can just search all the program and wherever `George` is written, change that to `John`."
   ]
  },
  {
   "cell_type": "code",
   "execution_count": 5,
   "metadata": {},
   "outputs": [
    {
     "name": "stdout",
     "output_type": "stream",
     "text": [
      "There was once a man named John,\n",
      "he was 70 years old\n",
      "He really liked the name John\n",
      "but he didn't like being 70\n"
     ]
    }
   ],
   "source": [
    "print(\"There was once a man named John,\")\n",
    "print(\"he was 70 years old\")\n",
    "print(\"He really liked the name John\")\n",
    "print(\"but he didn't like being 70\")"
   ]
  },
  {
   "cell_type": "markdown",
   "metadata": {},
   "source": [
    "While it is possible in this program since it is a small code, if we had a very long story with thousands of lines of code, this task will become very tedious.\n",
    "\n",
    "Another way to do is that we can story the name in something called a variable and then use that varibale wherever we want to use the name. To create a variable, we need to define a name to the variable, which is just the way we can refer wherever we want to use the variable(similar to how we are using the name `George` to use this value wherever we want). We will also create a variable for age and change the age from 70 to 35."
   ]
  },
  {
   "cell_type": "code",
   "execution_count": 6,
   "metadata": {},
   "outputs": [
    {
     "name": "stdout",
     "output_type": "stream",
     "text": [
      "There was once a man named John,\n",
      "he was 35 years old\n",
      "He really liked the name John\n",
      "but he didn't like being 35\n"
     ]
    }
   ],
   "source": [
    "character_name=\"John\"\n",
    "character_age=\"35\"\n",
    "print(\"There was once a man named \" + character_name + \",\")\n",
    "print(\"he was \" + character_age + \" years old\")\n",
    "print(\"He really liked the name \" + character_name )\n",
    "print(\"but he didn't like being \" + character_age)"
   ]
  },
  {
   "cell_type": "markdown",
   "metadata": {},
   "source": [
    "To use a variable in a print statement, we need to add a `+` after the `\"` and type the variable name that we want to print. If we want to add some more data to print after the variable, we use `+` and then `\"` and add the text in double quotes\n",
    "\n",
    "Now we see, wherever we have `character_name` written, it is getting replaced with `John` since we gave the variable `character_name` a value of `John`. Also the age `character_age` is getting replaced with `35`. Now, no matter how long story we have, we can easily manage it using variables. When we change the variable value, it will get reflected everywhere. We can also modify the value of variable at anytime to something else"
   ]
  },
  {
   "cell_type": "code",
   "execution_count": 7,
   "metadata": {},
   "outputs": [
    {
     "name": "stdout",
     "output_type": "stream",
     "text": [
      "There was once a man named John,\n",
      "he was 35 years old\n",
      "He really liked the name Mike\n",
      "but he didn't like being 50\n"
     ]
    }
   ],
   "source": [
    "character_name=\"John\"\n",
    "character_age=\"35\"\n",
    "print(\"There was once a man named \" + character_name + \",\")\n",
    "print(\"he was \" + character_age + \" years old\")\n",
    "\n",
    "character_name=\"Mike\"\n",
    "character_age=\"50\"\n",
    "print(\"He really liked the name \" + character_name )\n",
    "print(\"but he didn't like being \" + character_age)"
   ]
  },
  {
   "cell_type": "markdown",
   "metadata": {},
   "source": [
    "## Working with Strings\n",
    "\n",
    "String is basically text data that we have. We can tell python that a particular data is string by adding it in `\"\"`. Whatever data is inside `\"\"` is treated as string. We can also store string data in variables"
   ]
  },
  {
   "cell_type": "code",
   "execution_count": 8,
   "metadata": {},
   "outputs": [
    {
     "name": "stdout",
     "output_type": "stream",
     "text": [
      "Hello World\n",
      "This is a phrase\n"
     ]
    }
   ],
   "source": [
    "print(\"Hello World\") \n",
    "\n",
    "phrase = \"This is\"\n",
    "print(phrase + \" a phrase\")"
   ]
  },
  {
   "cell_type": "markdown",
   "metadata": {},
   "source": [
    "We can also use some predefined block of codes, called functions, to modify string or get some data from the string. Some of the functions are - \n",
    "* `.lower()` - This will convert the complete string to lower case\n",
    "* `.upper()` - This will convert the complete string to upper case\n",
    "* `.isupper()` - This will tell whether the string is complete upper case or not. It will `True` if the string is complete upper case and `False` if string is not complete upper case\n",
    "* `len` - This will tell the number of characters in the string\n",
    "* `.index(input string)` - This function will tell the index position of the input string, i.e., where the input string is present in the string. The `input string` is a parameter of the function. A parameter is basically some input data we are giving to the function and it is performing some processing on it. If we pass `input string` which is not present in the string, it will give an error. We can pass a single character or a string as input. We pass a string, it will match the complete string and tell the index position where the 1st character of the input string matches\n",
    "* `.replce(\"input string\",\"string to replace\")` - This function is useful if we want to replace some characters or string in our existing string with new character or string. The `input string` is the character/string that we want to replace and `string to replace` is the character/string we want to replace it with.\n",
    "\n",
    "We can also use the function in combination, i.e., call the function one after the another by add `.` and then the function name one after the another and python will execute the functions in sequence one after another.\n",
    "\n",
    "We can also get any character from the string, instead of getting the complete string. We can do so by writing the `[]` and add the index of the character we want to get. Index is basically the position of the character in the string. The index value starts from `0`, i.e., the 1st character has the index position `0` and the last character has index position of `n-1`, where `n` is the total number of characters in the string."
   ]
  },
  {
   "cell_type": "code",
   "execution_count": 9,
   "metadata": {},
   "outputs": [
    {
     "name": "stdout",
     "output_type": "stream",
     "text": [
      "hello world\n",
      "HELLO WORLD\n",
      "False\n",
      "True\n",
      "11\n",
      "H\n",
      "0\n",
      "7\n",
      "Hello Globe\n"
     ]
    }
   ],
   "source": [
    "phrase = \"Hello World\"\n",
    "print(phrase.lower())\n",
    "print(phrase.upper())\n",
    "print(phrase.isupper())\n",
    "print(phrase.upper().isupper())\n",
    "print(len(phrase))\n",
    "print(phrase[0])\n",
    "print(phrase.index(\"H\"))\n",
    "print(phrase.index(\"orl\"))\n",
    "print(phrase.replace(\"World\",\"Globe\"))"
   ]
  },
  {
   "cell_type": "markdown",
   "metadata": {},
   "source": [
    "## Working with numbers\n",
    "\n",
    "Numbers is common data type in Python that we will use. Numbers is basically the numbers that we have in our real life and we can perform all the awesome things with numbers. We can create a number and perform some basic operations as follows."
   ]
  },
  {
   "cell_type": "code",
   "execution_count": 10,
   "metadata": {},
   "outputs": [
    {
     "name": "stdout",
     "output_type": "stream",
     "text": [
      "2.087\n",
      "7\n",
      "23\n",
      "1\n"
     ]
    }
   ],
   "source": [
    "print(2.087)\n",
    "print(3 + 4)\n",
    "print(3 + 4 * 5)\n",
    "print(10 % 3)"
   ]
  },
  {
   "cell_type": "markdown",
   "metadata": {},
   "source": [
    "We can also store the number in a varibale and then use it. If we just `print` it, it will be printed as a number. We can also use it as a string value by passing the value in a function `str`. "
   ]
  },
  {
   "cell_type": "code",
   "execution_count": 11,
   "metadata": {},
   "outputs": [
    {
     "name": "stdout",
     "output_type": "stream",
     "text": [
      "5\n",
      "5\n",
      "5 is a number\n"
     ]
    },
    {
     "ename": "TypeError",
     "evalue": "unsupported operand type(s) for +: 'int' and 'str'",
     "output_type": "error",
     "traceback": [
      "\u001b[0;31m---------------------------------------------------------------------------\u001b[0m",
      "\u001b[0;31mTypeError\u001b[0m                                 Traceback (most recent call last)",
      "\u001b[0;32m<ipython-input-11-21bb43e72509>\u001b[0m in \u001b[0;36m<module>\u001b[0;34m\u001b[0m\n\u001b[1;32m      3\u001b[0m \u001b[0mprint\u001b[0m\u001b[0;34m(\u001b[0m\u001b[0mstr\u001b[0m\u001b[0;34m(\u001b[0m\u001b[0mmy_num\u001b[0m\u001b[0;34m)\u001b[0m\u001b[0;34m)\u001b[0m\u001b[0;34m\u001b[0m\u001b[0;34m\u001b[0m\u001b[0m\n\u001b[1;32m      4\u001b[0m \u001b[0mprint\u001b[0m\u001b[0;34m(\u001b[0m\u001b[0mstr\u001b[0m\u001b[0;34m(\u001b[0m\u001b[0mmy_num\u001b[0m\u001b[0;34m)\u001b[0m \u001b[0;34m+\u001b[0m \u001b[0;34m\" is a number\"\u001b[0m\u001b[0;34m)\u001b[0m\u001b[0;34m\u001b[0m\u001b[0;34m\u001b[0m\u001b[0m\n\u001b[0;32m----> 5\u001b[0;31m \u001b[0mprint\u001b[0m\u001b[0;34m(\u001b[0m\u001b[0mmy_num\u001b[0m \u001b[0;34m+\u001b[0m \u001b[0;34m\" is a number\"\u001b[0m\u001b[0;34m)\u001b[0m\u001b[0;34m\u001b[0m\u001b[0;34m\u001b[0m\u001b[0m\n\u001b[0m",
      "\u001b[0;31mTypeError\u001b[0m: unsupported operand type(s) for +: 'int' and 'str'"
     ]
    }
   ],
   "source": [
    "my_num = 5\n",
    "print(my_num)\n",
    "print(str(my_num))\n",
    "print(str(my_num) + \" is a number\")\n",
    "print(my_num + \" is a number\")"
   ]
  },
  {
   "cell_type": "markdown",
   "metadata": {},
   "source": [
    "We see that `print(my_num + \"is a number\")` does not work because we are trying to combine a number and a string in the print statement and python does not allow that. We can convert the number to string by using `str()` and it will work, like `print(str(my_num) + \"is a number\")`.\n",
    "\n",
    "Number, like string, contains various functions that we can use. Some of them are - \n",
    "* `abs(number)` - This function will return the absolute value of the number, i.e., the non-negative value of the number.\n",
    "* `pow(number, power)` - This function will `power` the `number`, i.e, it will basically multiply the `number` by itself `power` times.\n",
    "* `max(number1, number2)` - This function will tell which number is largest, `number1` or `number2`\n",
    "* `min(number1, number2)` - This function will tell which number is smalled, `number1` or `number2`\n",
    "* `round(number)` - This function will round the `number` to the nearest integer value,i.e., if the `number`'s decimal value is less that `0.5`, then it returns the current integer value otherwise integer value + 1\n",
    "\n",
    "There are many other powerful functions present that we can use by writing something like `from math import *`. What this lines means, in a layman language, is that there is some already written code in a file called `math` and that we want to use the functions written in that file so this line will allow us to use that function. We will go through it in depth in [Modules and pip](#Modules_and_Pip). Some of the functions are -\n",
    "* `floor(number)` - This function will return the integer value removing the decimal value.\n",
    "* `ceil(number)` - This function will return the next integer value.\n",
    "* `sqrt(number)` - Return the square root of the number"
   ]
  },
  {
   "cell_type": "code",
   "execution_count": 12,
   "metadata": {},
   "outputs": [
    {
     "name": "stdout",
     "output_type": "stream",
     "text": [
      "2.984\n",
      "9.0\n",
      "3\n",
      "2\n",
      "4\n",
      "3\n",
      "3\n",
      "3\n",
      "3.0\n"
     ]
    }
   ],
   "source": [
    "from math import *\n",
    "\n",
    "print(abs(2.984))\n",
    "print(pow(3,2))\n",
    "print(max(3,2))\n",
    "print(min(3,2))\n",
    "print(round(3.7))\n",
    "print(round(3.2))\n",
    "print(floor(3.2))\n",
    "print(floor(3.7))\n",
    "print(sqrt(9))"
   ]
  },
  {
   "cell_type": "markdown",
   "metadata": {},
   "source": [
    "## Taking Input from user\n",
    "To take input from user in python, we use the command `input`. This takes a single optional arg called `prompt` which is a message printed before the input is being taken."
   ]
  },
  {
   "cell_type": "code",
   "execution_count": 13,
   "metadata": {},
   "outputs": [
    {
     "name": "stdin",
     "output_type": "stream",
     "text": [
      "Enter your name:  aviral\n"
     ]
    },
    {
     "name": "stdout",
     "output_type": "stream",
     "text": [
      "Hello aviral\n"
     ]
    }
   ],
   "source": [
    "name = input(\"Enter your name: \")\n",
    "print(\"Hello \" + name)"
   ]
  },
  {
   "cell_type": "code",
   "execution_count": 14,
   "metadata": {},
   "outputs": [
    {
     "name": "stdin",
     "output_type": "stream",
     "text": [
      "Enter your age:  32\n"
     ]
    },
    {
     "name": "stdout",
     "output_type": "stream",
     "text": [
      "You are 32 years old\n"
     ]
    }
   ],
   "source": [
    "age = input(\"Enter your age: \")\n",
    "print(\"You are \" + age +\" years old\")"
   ]
  },
  {
   "cell_type": "markdown",
   "metadata": {},
   "source": [
    "## Building a basic calculator\n",
    "In this we will take input numbers from users and add them"
   ]
  },
  {
   "cell_type": "code",
   "execution_count": 15,
   "metadata": {},
   "outputs": [
    {
     "name": "stdin",
     "output_type": "stream",
     "text": [
      "Enter a number:  4\n",
      "Enter another number:  5\n"
     ]
    },
    {
     "name": "stdout",
     "output_type": "stream",
     "text": [
      "45\n"
     ]
    }
   ],
   "source": [
    "num1 = input(\"Enter a number: \")\n",
    "num2 = input(\"Enter another number: \")\n",
    "result = num1 + num2\n",
    "print(result)"
   ]
  },
  {
   "cell_type": "markdown",
   "metadata": {},
   "source": [
    "The program should have added the numbers but it gave something else. This is because when we input any value, python converts it automatically to string. So the values we have are not int type but string type. Due to this the values get appended instead of getting added. To solve this, we can just type convert values to int"
   ]
  },
  {
   "cell_type": "code",
   "execution_count": 16,
   "metadata": {},
   "outputs": [
    {
     "name": "stdin",
     "output_type": "stream",
     "text": [
      "Enter a number:  4\n",
      "Enter another number:  5\n"
     ]
    },
    {
     "name": "stdout",
     "output_type": "stream",
     "text": [
      "9\n"
     ]
    }
   ],
   "source": [
    "num1 = input(\"Enter a number: \")\n",
    "num2 = input(\"Enter another number: \")\n",
    "result = int(num1) + int(num2) # int function will convert the values inside to integer values(whole numbers)\n",
    "print(result)"
   ]
  },
  {
   "cell_type": "markdown",
   "metadata": {},
   "source": [
    "There is 1 problem with this. If we enter decimal values, it will not work since the values are getting converted to integer. To mitigate this, we can convert the values inputted to float type. This will allow values to have decimals."
   ]
  },
  {
   "cell_type": "code",
   "execution_count": 18,
   "metadata": {},
   "outputs": [
    {
     "name": "stdin",
     "output_type": "stream",
     "text": [
      "Enter a number:  4\n",
      "Enter another number:  5.87\n"
     ]
    },
    {
     "name": "stdout",
     "output_type": "stream",
     "text": [
      "9.870000000000001\n"
     ]
    }
   ],
   "source": [
    "num1 = input(\"Enter a number: \")\n",
    "num2 = input(\"Enter another number: \")\n",
    "result = float(num1) + float(num2) # float function will convert the values inside to float type values to allow decimals\n",
    "print(result)"
   ]
  },
  {
   "cell_type": "markdown",
   "metadata": {},
   "source": [
    "## Building Mad Libs Game in python\n",
    "It is a game in which we enter a bunch of words like name, color, age, noun, etc and entering them in random places in a story to make a fun story. In this we will have a story and input a color, plural noun and celebrity name and then entry them into our story."
   ]
  },
  {
   "cell_type": "code",
   "execution_count": 19,
   "metadata": {},
   "outputs": [
    {
     "name": "stdin",
     "output_type": "stream",
     "text": [
      "Enter a color:  red\n",
      "Enter a plural_noun:  sun\n",
      "Enter a celebrity:  tom hanks\n"
     ]
    },
    {
     "name": "stdout",
     "output_type": "stream",
     "text": [
      "Roses are red\n",
      "sun is blue\n",
      "I Love tom hanks\n"
     ]
    }
   ],
   "source": [
    "color = input(\"Enter a color: \")\n",
    "plural_noun = input(\"Enter a plural_noun: \")\n",
    "celebrity = input(\"Enter a celebrity: \")\n",
    "\n",
    "print(\"Roses are \" + color)\n",
    "print( plural_noun + \" is blue\")\n",
    "print(\"I Love \" + celebrity)"
   ]
  },
  {
   "cell_type": "markdown",
   "metadata": {},
   "source": [
    "## Lists"
   ]
  },
  {
   "cell_type": "markdown",
   "metadata": {},
   "source": [
    "It is a data structure that can store large amount of heterogeneous(different) data type data. To create a list we just write data in `[]` brackets"
   ]
  },
  {
   "cell_type": "code",
   "execution_count": 20,
   "metadata": {},
   "outputs": [],
   "source": [
    "friends = [\"Kevin\",\"Karen\",\"Jim\"]"
   ]
  },
  {
   "cell_type": "markdown",
   "metadata": {},
   "source": [
    "List can contain anytype of information"
   ]
  },
  {
   "cell_type": "code",
   "execution_count": 33,
   "metadata": {},
   "outputs": [
    {
     "name": "stdout",
     "output_type": "stream",
     "text": [
      "['Kevin', 2, False]\n"
     ]
    }
   ],
   "source": [
    "friends = [\"Kevin\",2,False]\n",
    "print(friends)"
   ]
  },
  {
   "cell_type": "code",
   "execution_count": 22,
   "metadata": {},
   "outputs": [
    {
     "name": "stdout",
     "output_type": "stream",
     "text": [
      "['Kevin', 'Karen', 'Jim']\n"
     ]
    }
   ],
   "source": [
    "friends = [\"Kevin\",\"Karen\",\"Jim\"]\n",
    "print(friends)"
   ]
  },
  {
   "cell_type": "markdown",
   "metadata": {},
   "source": [
    "To print a specific element of a list, we can do so by refering it by it's index value(in list, index starts from position 0 to n-1 where n is length of list)"
   ]
  },
  {
   "cell_type": "code",
   "execution_count": 23,
   "metadata": {},
   "outputs": [
    {
     "name": "stdout",
     "output_type": "stream",
     "text": [
      "Kevin\n",
      "Karen\n"
     ]
    }
   ],
   "source": [
    "print(friends[0]) # To access the 1st element of list friends\n",
    "print(friends[1])"
   ]
  },
  {
   "cell_type": "markdown",
   "metadata": {},
   "source": [
    "We can also access the elements from the end of the list by using negative index values. They start from `-1` to `-n` where n is the length of list. `-1` will refer to last element of list and `-n` will refer the first."
   ]
  },
  {
   "cell_type": "code",
   "execution_count": 24,
   "metadata": {},
   "outputs": [
    {
     "name": "stdout",
     "output_type": "stream",
     "text": [
      "Jim\n",
      "Kevin\n"
     ]
    }
   ],
   "source": [
    "print(friends[-1])\n",
    "print(friends[-3])"
   ]
  },
  {
   "cell_type": "markdown",
   "metadata": {},
   "source": [
    "To select elements from position 1 to end, we can use slicing method"
   ]
  },
  {
   "cell_type": "code",
   "execution_count": 25,
   "metadata": {},
   "outputs": [
    {
     "name": "stdout",
     "output_type": "stream",
     "text": [
      "['Karen', 'Jim']\n"
     ]
    }
   ],
   "source": [
    "print(friends[1:])"
   ]
  },
  {
   "cell_type": "markdown",
   "metadata": {},
   "source": [
    "We can also specify a to and from range, i.e., if we want to get the elements 1 & 2, we can write `[1:3]`. The index position after `:` is not included in result"
   ]
  },
  {
   "cell_type": "code",
   "execution_count": 26,
   "metadata": {},
   "outputs": [
    {
     "name": "stdout",
     "output_type": "stream",
     "text": [
      "['Karen', 'Jim']\n"
     ]
    }
   ],
   "source": [
    "friends = [\"Kevin\",\"Karen\",\"Jim\",\"Oscar\",\"Toby\"]\n",
    "print(friends[1:3])"
   ]
  },
  {
   "cell_type": "markdown",
   "metadata": {},
   "source": [
    "We can modify any value by accessing it by index value. For eg"
   ]
  },
  {
   "cell_type": "code",
   "execution_count": 27,
   "metadata": {},
   "outputs": [
    {
     "name": "stdout",
     "output_type": "stream",
     "text": [
      "['Kevin', 'Mike', 'Jim', 'Oscar', 'Toby']\n"
     ]
    }
   ],
   "source": [
    "friends[1] = \"Mike\"\n",
    "print(friends)"
   ]
  },
  {
   "cell_type": "markdown",
   "metadata": {},
   "source": [
    "## List Functions\n",
    "These are some common list function that we can use."
   ]
  },
  {
   "cell_type": "code",
   "execution_count": 28,
   "metadata": {},
   "outputs": [
    {
     "name": "stdout",
     "output_type": "stream",
     "text": [
      "['Kevin', 'Karen', 'Jim', 'Oscar', 'Toby']\n"
     ]
    }
   ],
   "source": [
    "lucky_numbers = [4,8,15,16,23,42]\n",
    "friends = [\"Kevin\",\"Karen\",\"Jim\",\"Oscar\",\"Toby\"]\n",
    "\n",
    "print(friends) # Printing list"
   ]
  },
  {
   "cell_type": "markdown",
   "metadata": {},
   "source": [
    "`extend` function can be used to append 1 list to another."
   ]
  },
  {
   "cell_type": "code",
   "execution_count": 29,
   "metadata": {},
   "outputs": [
    {
     "name": "stdout",
     "output_type": "stream",
     "text": [
      "['Kevin', 'Karen', 'Jim', 'Oscar', 'Toby', 4, 8, 15, 16, 23, 42]\n"
     ]
    }
   ],
   "source": [
    "friends.extend(lucky_numbers)\n",
    "print(friends)"
   ]
  },
  {
   "cell_type": "markdown",
   "metadata": {},
   "source": [
    "`append` function can be used to add single element to the end of the list"
   ]
  },
  {
   "cell_type": "code",
   "execution_count": 34,
   "metadata": {},
   "outputs": [
    {
     "data": {
      "text/plain": [
       "['Kevin', 'Karen', 'Jim', 'Oscar', 'Toby', 'Creed']"
      ]
     },
     "execution_count": 34,
     "metadata": {},
     "output_type": "execute_result"
    }
   ],
   "source": [
    "lucky_numbers = [4,8,15,16,23,42]\n",
    "friends = [\"Kevin\",\"Karen\",\"Jim\",\"Oscar\",\"Toby\"]\n",
    "friends.append(\"Creed\")\n",
    "friends"
   ]
  },
  {
   "cell_type": "markdown",
   "metadata": {},
   "source": [
    "`insert` function can be used to insert element in any position of the list. This will take 2 parameters, index position and value. The value will get added at the index position passed"
   ]
  },
  {
   "cell_type": "code",
   "execution_count": 31,
   "metadata": {},
   "outputs": [
    {
     "name": "stdout",
     "output_type": "stream",
     "text": [
      "['Kevin', 'Kelly', 'Karen', 'Jim', 'Oscar', 'Toby']\n"
     ]
    }
   ],
   "source": [
    "lucky_numbers = [4,8,15,16,23,42]\n",
    "friends = [\"Kevin\",\"Karen\",\"Jim\",\"Oscar\",\"Toby\"]\n",
    "friends.insert(1,\"Kelly\") #\"Kelly\" value will get inserted at position 1 and all the other values on index 1 and after will get shifted 1 index position\n",
    "print(friends)"
   ]
  },
  {
   "cell_type": "markdown",
   "metadata": {},
   "source": [
    "To remove values, we can use `remove` function. It only requires the value that needs to be removed"
   ]
  },
  {
   "cell_type": "code",
   "execution_count": 32,
   "metadata": {},
   "outputs": [
    {
     "name": "stdout",
     "output_type": "stream",
     "text": [
      "['Kevin', 'Karen', 'Oscar', 'Toby']\n"
     ]
    }
   ],
   "source": [
    "lucky_numbers = [4,8,15,16,23,42]\n",
    "friends = [\"Kevin\",\"Karen\",\"Jim\",\"Oscar\",\"Toby\"]\n",
    "friends.remove(\"Jim\")\n",
    "print(friends)"
   ]
  },
  {
   "cell_type": "markdown",
   "metadata": {},
   "source": [
    "`clear` function can be used to clear all the data in a list."
   ]
  },
  {
   "cell_type": "code",
   "execution_count": 35,
   "metadata": {},
   "outputs": [
    {
     "name": "stdout",
     "output_type": "stream",
     "text": [
      "[]\n"
     ]
    }
   ],
   "source": [
    "lucky_numbers = [4,8,15,16,23,42]\n",
    "friends = [\"Kevin\",\"Karen\",\"Jim\",\"Oscar\",\"Toby\"]\n",
    "friends.clear()\n",
    "print(friends)"
   ]
  },
  {
   "cell_type": "markdown",
   "metadata": {},
   "source": [
    "`pop` will remove the last element from the list"
   ]
  },
  {
   "cell_type": "code",
   "execution_count": 36,
   "metadata": {},
   "outputs": [
    {
     "name": "stdout",
     "output_type": "stream",
     "text": [
      "['Kevin', 'Karen', 'Jim', 'Oscar']\n"
     ]
    }
   ],
   "source": [
    "lucky_numbers = [4,8,15,16,23,42]\n",
    "friends = [\"Kevin\",\"Karen\",\"Jim\",\"Oscar\",\"Toby\"]\n",
    "friends.pop()\n",
    "print(friends)"
   ]
  },
  {
   "cell_type": "markdown",
   "metadata": {},
   "source": [
    "To search value in list, we use function `index`. This will return the index value of the value in the list. It will give an error if the value is not present in the list"
   ]
  },
  {
   "cell_type": "code",
   "execution_count": 37,
   "metadata": {},
   "outputs": [
    {
     "name": "stdout",
     "output_type": "stream",
     "text": [
      "0\n",
      "1\n"
     ]
    }
   ],
   "source": [
    "lucky_numbers = [4,8,15,16,23,42]\n",
    "friends = [\"Kevin\",\"Karen\",\"Jim\",\"Oscar\",\"Toby\"]\n",
    "print(friends.index(\"Kevin\"))\n",
    "print(friends.index(\"Karen\"))\n"
   ]
  },
  {
   "cell_type": "code",
   "execution_count": 38,
   "metadata": {},
   "outputs": [
    {
     "ename": "ValueError",
     "evalue": "'Taylor' is not in list",
     "output_type": "error",
     "traceback": [
      "\u001b[0;31m---------------------------------------------------------------------------\u001b[0m",
      "\u001b[0;31mValueError\u001b[0m                                Traceback (most recent call last)",
      "\u001b[0;32m<ipython-input-38-4faa91ec8cd7>\u001b[0m in \u001b[0;36m<module>\u001b[0;34m\u001b[0m\n\u001b[0;32m----> 1\u001b[0;31m \u001b[0mprint\u001b[0m\u001b[0;34m(\u001b[0m\u001b[0mfriends\u001b[0m\u001b[0;34m.\u001b[0m\u001b[0mindex\u001b[0m\u001b[0;34m(\u001b[0m\u001b[0;34m\"Taylor\"\u001b[0m\u001b[0;34m)\u001b[0m\u001b[0;34m)\u001b[0m \u001b[0;31m# This will give an error since this value is not present in the list\u001b[0m\u001b[0;34m\u001b[0m\u001b[0;34m\u001b[0m\u001b[0m\n\u001b[0m",
      "\u001b[0;31mValueError\u001b[0m: 'Taylor' is not in list"
     ]
    }
   ],
   "source": [
    "print(friends.index(\"Taylor\")) # This will give an error since this value is not present in the list"
   ]
  },
  {
   "cell_type": "markdown",
   "metadata": {},
   "source": [
    "To count the number of times a value is present in the list, we can use `count` function. It will take input a value and return the count of that value in the list."
   ]
  },
  {
   "cell_type": "code",
   "execution_count": 39,
   "metadata": {},
   "outputs": [
    {
     "name": "stdout",
     "output_type": "stream",
     "text": [
      "2\n"
     ]
    }
   ],
   "source": [
    "lucky_numbers = [4,8,15,16,23,42]\n",
    "friends = [\"Kevin\",\"Karen\",\"Jim\",\"Jim\",\"Oscar\",\"Toby\"]\n",
    "print(friends.count(\"Jim\"))"
   ]
  },
  {
   "cell_type": "markdown",
   "metadata": {},
   "source": [
    "`sort` function will sort the list in ascending order"
   ]
  },
  {
   "cell_type": "code",
   "execution_count": 40,
   "metadata": {},
   "outputs": [
    {
     "name": "stdout",
     "output_type": "stream",
     "text": [
      "['Jim', 'Jim', 'Karen', 'Kevin', 'Oscar', 'Toby']\n",
      "[4, 8, 15, 16, 23, 42]\n"
     ]
    }
   ],
   "source": [
    "lucky_numbers = [42,4,8,15,16,23]\n",
    "friends = [\"Kevin\",\"Karen\",\"Jim\",\"Jim\",\"Oscar\",\"Toby\"]\n",
    "friends.sort()\n",
    "lucky_numbers.sort()\n",
    "print(friends)\n",
    "print(lucky_numbers)"
   ]
  },
  {
   "cell_type": "markdown",
   "metadata": {},
   "source": [
    "`reverse` function can be used to reverse element order in a list(not sort them in reverse order but move then from index `m` to index `n-m` in a list of length `n`)"
   ]
  },
  {
   "cell_type": "code",
   "execution_count": 41,
   "metadata": {},
   "outputs": [
    {
     "name": "stdout",
     "output_type": "stream",
     "text": [
      "[23, 16, 15, 8, 4, 42]\n"
     ]
    }
   ],
   "source": [
    "lucky_numbers = [42,4,8,15,16,23]\n",
    "friends = [\"Kevin\",\"Karen\",\"Jim\",\"Jim\",\"Oscar\",\"Toby\"]\n",
    "lucky_numbers.reverse()\n",
    "print(lucky_numbers)"
   ]
  },
  {
   "cell_type": "markdown",
   "metadata": {},
   "source": [
    "`copy` function can be used to create copy of a list "
   ]
  },
  {
   "cell_type": "code",
   "execution_count": 42,
   "metadata": {},
   "outputs": [
    {
     "name": "stdout",
     "output_type": "stream",
     "text": [
      "['Kevin', 'Karen', 'Jim', 'Jim', 'Oscar', 'Toby']\n"
     ]
    }
   ],
   "source": [
    "lucky_numbers = [42,4,8,15,16,23]\n",
    "friends = [\"Kevin\",\"Karen\",\"Jim\",\"Jim\",\"Oscar\",\"Toby\"]\n",
    "\n",
    "friends_2 = friends.copy()\n",
    "print(friends_2)"
   ]
  },
  {
   "cell_type": "markdown",
   "metadata": {},
   "source": [
    "## Tuples\n",
    "In this we can store different values like lists. They are defined by `()`. They are immutable, i.e., we cannot add or remove elements in tuple and change the values of tuples. Tuples can be accessed using index position(same way we have for lists) and start from index position 0"
   ]
  },
  {
   "cell_type": "code",
   "execution_count": 43,
   "metadata": {},
   "outputs": [
    {
     "name": "stdout",
     "output_type": "stream",
     "text": [
      "4\n",
      "5\n"
     ]
    }
   ],
   "source": [
    "coordinates = (4,5) #Tuples are defined using () brackets\n",
    "print(coordinates[0]) # This will return 4\n",
    "print(coordinates[1]) # This will return 5"
   ]
  },
  {
   "cell_type": "code",
   "execution_count": 44,
   "metadata": {},
   "outputs": [
    {
     "ename": "TypeError",
     "evalue": "'tuple' object does not support item assignment",
     "output_type": "error",
     "traceback": [
      "\u001b[0;31m---------------------------------------------------------------------------\u001b[0m",
      "\u001b[0;31mTypeError\u001b[0m                                 Traceback (most recent call last)",
      "\u001b[0;32m<ipython-input-44-0d0192117552>\u001b[0m in \u001b[0;36m<module>\u001b[0;34m\u001b[0m\n\u001b[0;32m----> 1\u001b[0;31m \u001b[0mcoordinates\u001b[0m\u001b[0;34m[\u001b[0m\u001b[0;36m1\u001b[0m\u001b[0;34m]\u001b[0m \u001b[0;34m=\u001b[0m \u001b[0;36m10\u001b[0m \u001b[0;31m# This will give error since we cannot change values in tuple\u001b[0m\u001b[0;34m\u001b[0m\u001b[0;34m\u001b[0m\u001b[0m\n\u001b[0m",
      "\u001b[0;31mTypeError\u001b[0m: 'tuple' object does not support item assignment"
     ]
    }
   ],
   "source": [
    "coordinates[1] = 10 # This will give error since we cannot change values in tuple"
   ]
  },
  {
   "cell_type": "markdown",
   "metadata": {},
   "source": [
    "We basically save data in tuples which will never change, for example coordinates of a place will never change so we can save them in tuples. "
   ]
  },
  {
   "cell_type": "markdown",
   "metadata": {},
   "source": [
    "## Functions\n",
    "Collection of code which performs certain task.\n",
    "function is defined by using keyword `def`. We are creating a function which will print hi.\n",
    "After adding the `:` after the function name(), we need to indent it so that python can understand that the code is part of the function(equivalent to defining scoping using `{}` in other languages)"
   ]
  },
  {
   "cell_type": "code",
   "execution_count": 45,
   "metadata": {},
   "outputs": [
    {
     "name": "stdout",
     "output_type": "stream",
     "text": [
      "Top\n",
      "Hello user\n",
      "Bottom\n"
     ]
    }
   ],
   "source": [
    "def say_hi(): # sayHi() is the function name\n",
    "    print(\"Hello user\") # This line is present in the function\n",
    "# Once the function is defined, we need to \"call\" the function otherwise python will not execute the function\n",
    "print(\"Top\")\n",
    "say_hi()\n",
    "print(\"Bottom\")"
   ]
  },
  {
   "cell_type": "markdown",
   "metadata": {},
   "source": [
    "First `Top` will be printed, and then it will execute the function `say_hi()` since we have called it next. Once the execution is completed, then it will move to next line and print `Bottom`"
   ]
  },
  {
   "cell_type": "markdown",
   "metadata": {},
   "source": [
    "We can also pass some information to the function, called parameters. For eg, we can pass the username to the function and have it say hi to that user. A function can have any number of parameters."
   ]
  },
  {
   "cell_type": "code",
   "execution_count": 46,
   "metadata": {},
   "outputs": [
    {
     "name": "stdout",
     "output_type": "stream",
     "text": [
      "Hello Mike\n",
      "Hello Steve\n"
     ]
    }
   ],
   "source": [
    "def say_hi(name):\n",
    "    print(\"Hello \" + name)\n",
    "    \n",
    "say_hi(\"Mike\")\n",
    "say_hi(\"Steve\")"
   ]
  },
  {
   "cell_type": "code",
   "execution_count": 47,
   "metadata": {},
   "outputs": [
    {
     "name": "stdout",
     "output_type": "stream",
     "text": [
      "Hello Mike , you are 35\n",
      "Hello Steve , you are 70\n"
     ]
    }
   ],
   "source": [
    "def say_hi(name,age):\n",
    "    print(\"Hello \" + name + \" , you are \" + str(age))\n",
    "    \n",
    "say_hi(\"Mike\",35)\n",
    "say_hi(\"Steve\",70)"
   ]
  },
  {
   "cell_type": "markdown",
   "metadata": {},
   "source": [
    "Code should be broken down into functions as much as possible and same codes should be pushed into as a single function to allow clean code"
   ]
  },
  {
   "cell_type": "markdown",
   "metadata": {},
   "source": [
    "## Return Statement\n",
    "`return` keyword can be used in a function to get some information back from the function,i.e., once the function has executed the code, it can return some data. Any code written after the return keyword will not work since return keyword breaks the function.\n",
    "\n",
    "For eg, we will cube a number in function and return that number"
   ]
  },
  {
   "cell_type": "code",
   "execution_count": 48,
   "metadata": {},
   "outputs": [
    {
     "name": "stdout",
     "output_type": "stream",
     "text": [
      "27\n",
      "64\n"
     ]
    }
   ],
   "source": [
    "def cube(num):\n",
    "    return num * num * num; # this value will be returned to the place where function is called\n",
    "    print(\"code\") # This code will not get executed since return keyword returns back from the code\n",
    "\n",
    "print(cube(3)) # This will print the value returned\n",
    "\n",
    "result = cube(4) # Result will store the value returned from the function\n",
    "print(result)"
   ]
  },
  {
   "cell_type": "markdown",
   "metadata": {},
   "source": [
    "## If statements\n",
    "They are special functions in python which can help the program to take decisions based on the input recevied.\n",
    "\n"
   ]
  },
  {
   "cell_type": "code",
   "execution_count": 49,
   "metadata": {},
   "outputs": [
    {
     "name": "stdout",
     "output_type": "stream",
     "text": [
      "You are a male\n"
     ]
    }
   ],
   "source": [
    "is_male = True\n",
    "if is_male: # inside if condiditon we pass true or false values\n",
    "    print(\"You are a male\")"
   ]
  },
  {
   "cell_type": "markdown",
   "metadata": {},
   "source": [
    "Inside the above code, we will get `You are a male` in output since the value of `is_male` is `true` which is being passed to the if statement and that results in execution of if condition statement. If we pass value as `False`, then it will not execute."
   ]
  },
  {
   "cell_type": "code",
   "execution_count": 50,
   "metadata": {},
   "outputs": [],
   "source": [
    "is_male = False\n",
    "if is_male: # inside if condiditon we pass true or false values\n",
    "    print(\"You are a male\")"
   ]
  },
  {
   "cell_type": "markdown",
   "metadata": {},
   "source": [
    "We can also add an `else` statement. else statement get's executed whenever the `if` statements evaluates to false. For eg "
   ]
  },
  {
   "cell_type": "code",
   "execution_count": 51,
   "metadata": {},
   "outputs": [
    {
     "name": "stdout",
     "output_type": "stream",
     "text": [
      "You are not a male\n"
     ]
    }
   ],
   "source": [
    "is_male = False\n",
    "if is_male:\n",
    "    print(\"You are a male\")\n",
    "else:\n",
    "    print(\"You are not a male\")"
   ]
  },
  {
   "cell_type": "markdown",
   "metadata": {},
   "source": [
    "If we want to check for multiple conditions, we can use relational operators like  `or` and `and`. Let's say that we want to check condition that if a person `is_male` or `is_tall`, then we can do so using below code. This will be successful if `is_male` is true or `is_tall` is true or both are true"
   ]
  },
  {
   "cell_type": "code",
   "execution_count": 52,
   "metadata": {},
   "outputs": [
    {
     "name": "stdout",
     "output_type": "stream",
     "text": [
      "You are either male or tall or both\n"
     ]
    }
   ],
   "source": [
    "is_male = True\n",
    "is_tall = True\n",
    "\n",
    "if is_male or is_tall:\n",
    "    print(\"You are either male or tall or both\")\n",
    "else:\n",
    "    print(\"You are neither male nor tall\")"
   ]
  },
  {
   "cell_type": "markdown",
   "metadata": {},
   "source": [
    "If we want to check whether a person is both `is_male` and `is_tall`, then we can use `and` operator. It will be return `true` if both are true."
   ]
  },
  {
   "cell_type": "code",
   "execution_count": 53,
   "metadata": {},
   "outputs": [
    {
     "name": "stdout",
     "output_type": "stream",
     "text": [
      "You are either not male or not tall or not both\n"
     ]
    }
   ],
   "source": [
    "is_male = False\n",
    "is_tall = False\n",
    "\n",
    "if is_male and is_tall:\n",
    "    print(\"You are a tall male\")\n",
    "else:\n",
    "    print(\"You are either not male or not tall or not both\")"
   ]
  },
  {
   "cell_type": "code",
   "execution_count": 54,
   "metadata": {},
   "outputs": [
    {
     "name": "stdout",
     "output_type": "stream",
     "text": [
      "You are a tall male\n"
     ]
    }
   ],
   "source": [
    "is_male = True\n",
    "is_tall = True\n",
    "\n",
    "if is_male and is_tall:\n",
    "    print(\"You are a tall male\")\n",
    "else:\n",
    "    print(\"You are either not male or not tall or not both\")"
   ]
  },
  {
   "cell_type": "code",
   "execution_count": 55,
   "metadata": {},
   "outputs": [
    {
     "name": "stdout",
     "output_type": "stream",
     "text": [
      "You are either not male or not tall or not both\n"
     ]
    }
   ],
   "source": [
    "is_male = True\n",
    "is_tall = False\n",
    "\n",
    "if is_male and is_tall:\n",
    "    print(\"You are a tall male\")\n",
    "else:\n",
    "    print(\"You are either not male or not tall or not both\")"
   ]
  },
  {
   "cell_type": "markdown",
   "metadata": {},
   "source": [
    "If we want to check another condition after the `if` block, we can do so using `elif`(else if) block. The condition inside the `elif` block will be checked when the conidition of the `if` block is `false`(not successful). We can add as many `elif` blocks as we want. If none of the conditions of `if` and `elif` are true, then the statement of `else` block will be executed. Also if we want to check the reverse of a value, i.e., we want to go inside the if or elif block if any condition has failed, then we can use the `not()` function. It will return `true` if the value inside returns `false` and vice versa."
   ]
  },
  {
   "cell_type": "code",
   "execution_count": 56,
   "metadata": {},
   "outputs": [
    {
     "name": "stdout",
     "output_type": "stream",
     "text": [
      "You are a male but not tall\n"
     ]
    }
   ],
   "source": [
    "is_male = True\n",
    "is_tall = False\n",
    "\n",
    "if is_male and is_tall:\n",
    "    print(\"You are a tall male\")\n",
    "elif is_male and not(is_tall): # This will be true if is_tall is false\n",
    "    print(\"You are a male but not tall\")\n",
    "elif not(is_male) and is_tall:\n",
    "    print(\"You are not male but tall\")\n",
    "else:\n",
    "    print(\"You are neither male nor tall\")"
   ]
  },
  {
   "cell_type": "markdown",
   "metadata": {},
   "source": [
    "## If statements & Comparisions\n",
    "Instead of just using boolean values inside if statement, we can compare 2 values and take decision accordingly. We will make a function which will take 3 numbers as input and return the biggest number of all 3"
   ]
  },
  {
   "cell_type": "code",
   "execution_count": 57,
   "metadata": {},
   "outputs": [
    {
     "name": "stdout",
     "output_type": "stream",
     "text": [
      "5\n",
      "40\n",
      "300\n"
     ]
    }
   ],
   "source": [
    "def max_num(num1, num2, num3):\n",
    "    if num1 >= num2 and num1 >= num3:\n",
    "        return num1\n",
    "    elif num2 >= num1 and num2 >= num3:\n",
    "        return num2\n",
    "    else:\n",
    "        return num3\n",
    "print(max(3, 4, 5))\n",
    "print(max(3, 40, 5))\n",
    "print(max(300, 40, 5))"
   ]
  },
  {
   "cell_type": "markdown",
   "metadata": {},
   "source": [
    "In the above code, `>=` and `<=` comparision operators which will check `greater than or equal to` or `less than or equal to` between numbers and return true or false accordingly. `num1 >= num2` will return true if num1 is greater than or equal to num2 otherwise it will return false. Vice versa for `num1 <= num2`. We can compare all datatypes like int, string, boolean,etc.\n",
    "\n",
    "We have the following more comparision operators :-\n",
    "* `==` - This will return `true` if both the values are equal\n",
    "* `!=` - This will return `true` if both the values are not equal\n",
    "* `<` - This will return `true` if value1 is less than value2\n",
    "* `>` - This will return `true` if value1 is greater than value2 "
   ]
  },
  {
   "cell_type": "markdown",
   "metadata": {},
   "source": [
    "## Building a better calculator\n",
    "We created a basic calculator above (`ADD Tag to calc code peice`). But that calculator only took 2 numbers as input and returned addition of those 2 numbers. Now we will build an advanced calculator which will take input 2 numbers as well as the arithmetic operation we wish to perform on those numbers. The calculator will support the basic arithmetic operations."
   ]
  },
  {
   "cell_type": "code",
   "execution_count": 58,
   "metadata": {},
   "outputs": [
    {
     "name": "stdin",
     "output_type": "stream",
     "text": [
      "Enter First Number:  7.4\n",
      "Enter operator:  *\n",
      "Enter Second Number:  4.5\n"
     ]
    },
    {
     "name": "stdout",
     "output_type": "stream",
     "text": [
      "33.300000000000004\n"
     ]
    }
   ],
   "source": [
    "num1 = float(input(\"Enter First Number: \")) # The input that we get is of data type string. So we are converting it to float type so that we can perform arithmetic operations on it\n",
    "op = input(\"Enter operator: \")\n",
    "num2 = float(input(\"Enter Second Number: \")) # The input that we get is of data type string. So we are converting it to float type so that we can perform arithmetic operations on it\n",
    "\n",
    "if op == '+':\n",
    "    print(num1 + num2)\n",
    "elif op == '-':\n",
    "    print(num1 - num2)\n",
    "elif op == '*':\n",
    "    print(num1 * num2)\n",
    "elif op == '/':\n",
    "    print(num1 / num2)\n",
    "else:\n",
    "    print(\"Invalid operator\")  "
   ]
  },
  {
   "cell_type": "markdown",
   "metadata": {},
   "source": [
    "## Dictionary\n",
    "It is a data structure in python which allows to store data in key value pairs. In this we can access the data using the key. Inside a dictionary, all the keys must be unique. A dictionary is defined by `{}` inside which we enter in data in format `key:value`. If there are multiple key-value pairs, separate by `,`. The Last key value pair does not need `,`. It's kind of like JSON object. To access the data inside a dictionary, we have 2 methods. We can either access by using `[]` or by using `.get()` function of a dictionary.\n",
    "\n",
    "To understand this, we will create a program which will convert 3 digit month name to full month name. For eg, if we enter `Jan`, it will output `January`."
   ]
  },
  {
   "cell_type": "code",
   "execution_count": 59,
   "metadata": {},
   "outputs": [
    {
     "name": "stdout",
     "output_type": "stream",
     "text": [
      "January\n",
      "March\n",
      "This is an invalid key\n",
      "April\n"
     ]
    }
   ],
   "source": [
    "monthConversions = {\n",
    "\"Jan\":\"January\",\n",
    "\"Feb\":\"February\",\n",
    "\"Mar\":\"March\",\n",
    "\"Apr\":\"April\",\n",
    "\"May\":\"May\",\n",
    "\"Jun\":\"June\",\n",
    "\"Jul\":\"July\",\n",
    "\"Aug\":\"August\",\n",
    "\"Sep\":\"September\",\n",
    "\"Oct\":\"October\",\n",
    "\"Nov\":\"November\",\n",
    "\"Dec\":\"December\"\n",
    "}\n",
    "\n",
    "print(monthConversions[\"Jan\"]) # We are acessing value of key \"Jan\" using []\n",
    "\n",
    "print(monthConversions.get(\"Mar\"))\n",
    "\n",
    "print(monthConversions.get(\"Som\",\"This is an invalid key\")) # in the .get method, we can pass a default value which will be returned in case the key is not present in the dictionary\n",
    "print(monthConversions.get(\"Apr\",\"This is an invalid key\"))"
   ]
  },
  {
   "cell_type": "markdown",
   "metadata": {},
   "source": [
    "Dictionary can also have numbers as the keys. "
   ]
  },
  {
   "cell_type": "markdown",
   "metadata": {},
   "source": [
    "## While loop\n",
    "It is a structure which allows us to loop through and execute a code block multiple times. The while loop will keep on executing the code unless it's condition is false."
   ]
  },
  {
   "cell_type": "code",
   "execution_count": 60,
   "metadata": {},
   "outputs": [
    {
     "name": "stdout",
     "output_type": "stream",
     "text": [
      "1\n",
      "2\n",
      "3\n",
      "4\n",
      "5\n",
      "6\n",
      "7\n",
      "8\n",
      "9\n",
      "10\n",
      "Done with loop\n"
     ]
    }
   ],
   "source": [
    "i = 1\n",
    "\n",
    "while i <= 10: # \"i <= 10\" is the condition of the while loop and the loop will keep on interating the code block unless this condition is false\n",
    "    print(i)\n",
    "    i += 1 # Same as \"i=i+1\"\n",
    "    \n",
    "print(\"Done with loop\")"
   ]
  },
  {
   "cell_type": "markdown",
   "metadata": {},
   "source": [
    "## Building a guessing game\n",
    "This is a basic game in which we will have a secret word and the user will have to guess that secret word. The user will keep on guessing it until the user is able to guess the word correctly. We will keep on taking the input from the user inside a while loop and compare it with the secret word. As soon as the word matches, we will exit the while loop and print the success message"
   ]
  },
  {
   "cell_type": "code",
   "execution_count": 61,
   "metadata": {},
   "outputs": [
    {
     "name": "stdin",
     "output_type": "stream",
     "text": [
      "Enter the guess:  some\n",
      "Enter the guess:  text\n",
      "Enter the guess:  hasb\n",
      "Enter the guess:  giraffe\n"
     ]
    },
    {
     "name": "stdout",
     "output_type": "stream",
     "text": [
      "You guessed the word correctly. Congratulations!\n"
     ]
    }
   ],
   "source": [
    "secretWord = \"giraffe\"\n",
    "guess = \"\"\n",
    "\n",
    "while guess != secretWord:\n",
    "    guess = input(\"Enter the guess: \")\n",
    "    \n",
    "print(\"You guessed the word correctly. Congratulations!\")"
   ]
  },
  {
   "cell_type": "markdown",
   "metadata": {},
   "source": [
    "But in this, we are continuously asking the word till the user guesses the word correctly. To make the game more interesting, we will give user limited number of chances to guess the word. If the user is unable to guess the word in limited number of  tries, the game is over."
   ]
  },
  {
   "cell_type": "code",
   "execution_count": 62,
   "metadata": {},
   "outputs": [
    {
     "name": "stdin",
     "output_type": "stream",
     "text": [
      "Enter Your Guess:  abcd\n",
      "Enter Your Guess:  text\n",
      "Enter Your Guess:  giraffe\n"
     ]
    },
    {
     "name": "stdout",
     "output_type": "stream",
     "text": [
      "Congratulations! You guessed correctly\n"
     ]
    }
   ],
   "source": [
    "secretWord = \"giraffe\"\n",
    "guess = \"\"\n",
    "guessCount = 0\n",
    "guessLimit = 3\n",
    "outOfGuesses = False\n",
    "\n",
    "while guess != secretWord and not(outOfGuesses):\n",
    "    if guessCount < guessLimit:\n",
    "        guess = input(\"Enter Your Guess: \")\n",
    "        guessCount += 1\n",
    "    else:\n",
    "        outOfGuesses = True\n",
    "        \n",
    "if outOfGuesses == True:\n",
    "    print(\"Game over! You lost.\")\n",
    "else:\n",
    "    print(\"Congratulations! You guessed correctly\")"
   ]
  },
  {
   "cell_type": "markdown",
   "metadata": {},
   "source": [
    "## For loop\n",
    "It is a type of loop which allows to loop over different types of collections, like elements of lists, characters of string, etc."
   ]
  },
  {
   "cell_type": "code",
   "execution_count": 63,
   "metadata": {},
   "outputs": [
    {
     "name": "stdout",
     "output_type": "stream",
     "text": [
      "H\n",
      "e\n",
      "l\n",
      "l\n",
      "o\n",
      " \n",
      "W\n",
      "o\n",
      "r\n",
      "l\n",
      "d\n"
     ]
    }
   ],
   "source": [
    "for letter in \"Hello World\": # this will iterate on every letter of String \"Hello World\" and the variable `letter` will contain each of the letter in every iteration sequentially\n",
    "    print(letter)"
   ]
  },
  {
   "cell_type": "code",
   "execution_count": 64,
   "metadata": {},
   "outputs": [
    {
     "name": "stdout",
     "output_type": "stream",
     "text": [
      "John\n",
      "Jane\n",
      "Someone\n",
      "Sparky\n"
     ]
    }
   ],
   "source": [
    "friends = [\"John\",\"Jane\",\"Someone\",\"Sparky\"]\n",
    "\n",
    "for friend in friends: # friend will contain each element of array friends from each iteration\n",
    "    print(friend)"
   ]
  },
  {
   "cell_type": "code",
   "execution_count": 65,
   "metadata": {},
   "outputs": [
    {
     "name": "stdout",
     "output_type": "stream",
     "text": [
      "0\n",
      "1\n",
      "2\n",
      "3\n",
      "4\n",
      "5\n",
      "6\n",
      "7\n",
      "8\n",
      "9\n"
     ]
    }
   ],
   "source": [
    "for index in range(10):\n",
    "    print(index)"
   ]
  },
  {
   "cell_type": "code",
   "execution_count": 66,
   "metadata": {},
   "outputs": [
    {
     "name": "stdout",
     "output_type": "stream",
     "text": [
      "3\n",
      "4\n",
      "5\n",
      "6\n",
      "7\n",
      "8\n",
      "9\n"
     ]
    }
   ],
   "source": [
    "for index in range(3, 10):\n",
    "    print(index)"
   ]
  },
  {
   "cell_type": "markdown",
   "metadata": {},
   "source": [
    "Range is a function whichs is used to procedurally generate numbers. If we pass only 1 value to range function `n`, it will generate numbers in sequence from 0 to `n-1` with `+1` between each value. If we pass 2 values `m` and `n`, it will generate numbers from `m` to `n` with `+1` gap in between."
   ]
  },
  {
   "cell_type": "code",
   "execution_count": 67,
   "metadata": {},
   "outputs": [
    {
     "name": "stdout",
     "output_type": "stream",
     "text": [
      "John\n",
      "Jane\n",
      "Someone\n",
      "Sparky\n"
     ]
    }
   ],
   "source": [
    "friends = [\"John\",\"Jane\",\"Someone\",\"Sparky\"]\n",
    "\n",
    "for index in range(len(friends)): # len function is used to get the nuumber of elements in the list\n",
    "    print(friends[index])   "
   ]
  },
  {
   "cell_type": "markdown",
   "metadata": {},
   "source": [
    "## Exponent function\n",
    "An exponent function is a function which powers a number to another number, `n^m`. This can be done directly using `n ** m` in python, but we will create a function to do so."
   ]
  },
  {
   "cell_type": "code",
   "execution_count": 68,
   "metadata": {},
   "outputs": [
    {
     "name": "stdout",
     "output_type": "stream",
     "text": [
      "729\n"
     ]
    }
   ],
   "source": [
    "def raiseToPower(baseNum, powNum):\n",
    "    result = 1\n",
    "    for index in range(powNum):\n",
    "        result *= baseNum\n",
    "    return result\n",
    "        \n",
    "print(raiseToPower(9,3))"
   ]
  },
  {
   "cell_type": "markdown",
   "metadata": {},
   "source": [
    "## 2D Lists & Nested Loops\n"
   ]
  },
  {
   "cell_type": "code",
   "execution_count": 69,
   "metadata": {},
   "outputs": [
    {
     "name": "stdout",
     "output_type": "stream",
     "text": [
      "1\n",
      "8\n"
     ]
    }
   ],
   "source": [
    "# In the below list, we have 4 elements and each element is a list\n",
    "numberGrid = [\n",
    "    [1,2,3],\n",
    "    [4,5,6],\n",
    "    [7,8,9],\n",
    "    [0]\n",
    "]\n",
    "\n",
    "print(numberGrid[0][0]) # We are accessing 0 index element of numberGrid and then accessing 0th index element of that list inside numberGrid\n",
    "print(numberGrid[2][1])\n"
   ]
  },
  {
   "cell_type": "code",
   "execution_count": 70,
   "metadata": {},
   "outputs": [
    {
     "name": "stdout",
     "output_type": "stream",
     "text": [
      "[1, 2, 3]\n",
      "[4, 5, 6]\n",
      "[7, 8, 9]\n",
      "[0]\n",
      "1\n",
      "2\n",
      "3\n",
      "4\n",
      "5\n",
      "6\n",
      "7\n",
      "8\n",
      "9\n",
      "0\n"
     ]
    }
   ],
   "source": [
    "numberGrid = [\n",
    "    [1,2,3],\n",
    "    [4,5,6],\n",
    "    [7,8,9],\n",
    "    [0]\n",
    "]\n",
    "\n",
    "for row in numberGrid:\n",
    "    print(row)\n",
    "\n",
    "#2D for loop to iterate over grid\n",
    "for row in numberGrid:\n",
    "    for col in row:\n",
    "        print(col)"
   ]
  },
  {
   "cell_type": "markdown",
   "metadata": {},
   "source": [
    "## Building a transalator\n",
    "We will create a basic program in which we will be creating a language translator which will convert all `vowels` to letter `g`. "
   ]
  },
  {
   "cell_type": "code",
   "execution_count": 71,
   "metadata": {},
   "outputs": [
    {
     "name": "stdin",
     "output_type": "stream",
     "text": [
      "Enter a phrase:  Hello Everyone\n"
     ]
    },
    {
     "name": "stdout",
     "output_type": "stream",
     "text": [
      "Hgllg Gvgrygng\n"
     ]
    }
   ],
   "source": [
    "def translate(phrase):\n",
    "    translation = \"\"\n",
    "    for letter in phrase:\n",
    "        if letter.lower() in 'aeiou': # we are checking if letter belongs to the string 'AEIOUaeiou'\n",
    "            if letter.isupper():\n",
    "                translation += 'G'\n",
    "            else:\n",
    "                translation += 'g'\n",
    "        else:\n",
    "            translation += letter\n",
    "    return translation\n",
    "\n",
    "print(translate(input(\"Enter a phrase: \")))"
   ]
  },
  {
   "cell_type": "markdown",
   "metadata": {},
   "source": [
    "## Comments\n",
    "Comments are code which python will ignore and not execute it. It is written for humans to understand something. For eg, we can use it so that another developer can understand certian code part, or write it as a placeholder for when we know we need to modify some code piece. A comment is defined by writing `#` followed by the comment we want to have. For eg"
   ]
  },
  {
   "cell_type": "code",
   "execution_count": 72,
   "metadata": {},
   "outputs": [
    {
     "name": "stdout",
     "output_type": "stream",
     "text": [
      "Above line is not executed\n"
     ]
    }
   ],
   "source": [
    "#This is a comment\n",
    "print(\"Above line is not executed\")"
   ]
  },
  {
   "cell_type": "markdown",
   "metadata": {},
   "source": [
    "In the above code, we write the comment `#This is a comment` which python ignores and executed the next statement. To write multiline comment, we use triple quotes `'''`. \n",
    "```python\n",
    "'''\n",
    "This is a multi\n",
    "line\n",
    "comment\n",
    "'''\n",
    "print(\"Comment\")\n",
    "```"
   ]
  },
  {
   "cell_type": "markdown",
   "metadata": {},
   "source": [
    "## Try Except\n",
    "When we write programs in python and while execution any error is encontered, the program stops working at that point of time and we just get an error in execution. To avoid this, we can handle these errors and acoordingly decide what our program should do when these errors occur. These we can handle using `try except`. For eg"
   ]
  },
  {
   "cell_type": "code",
   "execution_count": 73,
   "metadata": {},
   "outputs": [
    {
     "name": "stdin",
     "output_type": "stream",
     "text": [
      "Enter a number:  a\n"
     ]
    },
    {
     "ename": "ValueError",
     "evalue": "invalid literal for int() with base 10: 'a'",
     "output_type": "error",
     "traceback": [
      "\u001b[0;31m---------------------------------------------------------------------------\u001b[0m",
      "\u001b[0;31mValueError\u001b[0m                                Traceback (most recent call last)",
      "\u001b[0;32m<ipython-input-73-714ac031a43d>\u001b[0m in \u001b[0;36m<module>\u001b[0;34m\u001b[0m\n\u001b[0;32m----> 1\u001b[0;31m \u001b[0mnumber\u001b[0m \u001b[0;34m=\u001b[0m \u001b[0mint\u001b[0m\u001b[0;34m(\u001b[0m\u001b[0minput\u001b[0m\u001b[0;34m(\u001b[0m\u001b[0;34m\"Enter a number: \"\u001b[0m\u001b[0;34m)\u001b[0m\u001b[0;34m)\u001b[0m\u001b[0;34m\u001b[0m\u001b[0;34m\u001b[0m\u001b[0m\n\u001b[0m\u001b[1;32m      2\u001b[0m \u001b[0mprint\u001b[0m\u001b[0;34m(\u001b[0m\u001b[0mnumber\u001b[0m\u001b[0;34m)\u001b[0m\u001b[0;34m\u001b[0m\u001b[0;34m\u001b[0m\u001b[0m\n",
      "\u001b[0;31mValueError\u001b[0m: invalid literal for int() with base 10: 'a'"
     ]
    }
   ],
   "source": [
    "number = int(input(\"Enter a number: \"))\n",
    "print(number)"
   ]
  },
  {
   "cell_type": "markdown",
   "metadata": {},
   "source": [
    "The program excepted a number but we gave it a string due to which the program threw an error and exited. We can also handle this error properly and return some message like enter a valid number using try and except block"
   ]
  },
  {
   "cell_type": "code",
   "execution_count": 74,
   "metadata": {},
   "outputs": [
    {
     "name": "stdin",
     "output_type": "stream",
     "text": [
      "Enter a number:  b\n"
     ]
    },
    {
     "name": "stdout",
     "output_type": "stream",
     "text": [
      "Invalid input\n"
     ]
    }
   ],
   "source": [
    "try:\n",
    "    number = int(input(\"Enter a number: \"))\n",
    "    print(number)\n",
    "except:\n",
    "    print(\"Invalid input\")"
   ]
  },
  {
   "cell_type": "markdown",
   "metadata": {},
   "source": [
    "The `except` block code will be executed when any error is thrown from the `try` block.  But in the above program, we just have 1 `except` block to handle all types of errors that we receive from the `try` block. For eg"
   ]
  },
  {
   "cell_type": "code",
   "execution_count": 75,
   "metadata": {},
   "outputs": [
    {
     "ename": "ZeroDivisionError",
     "evalue": "division by zero",
     "output_type": "error",
     "traceback": [
      "\u001b[0;31m---------------------------------------------------------------------------\u001b[0m",
      "\u001b[0;31mZeroDivisionError\u001b[0m                         Traceback (most recent call last)",
      "\u001b[0;32m<ipython-input-75-8c9017b55307>\u001b[0m in \u001b[0;36m<module>\u001b[0;34m\u001b[0m\n\u001b[0;32m----> 1\u001b[0;31m \u001b[0mvalue\u001b[0m \u001b[0;34m=\u001b[0m \u001b[0;36m10\u001b[0m\u001b[0;34m/\u001b[0m\u001b[0;36m0\u001b[0m\u001b[0;34m\u001b[0m\u001b[0;34m\u001b[0m\u001b[0m\n\u001b[0m\u001b[1;32m      2\u001b[0m \u001b[0;34m\u001b[0m\u001b[0m\n\u001b[1;32m      3\u001b[0m \u001b[0;32mtry\u001b[0m\u001b[0;34m:\u001b[0m\u001b[0;34m\u001b[0m\u001b[0;34m\u001b[0m\u001b[0m\n\u001b[1;32m      4\u001b[0m     \u001b[0mnumber\u001b[0m \u001b[0;34m=\u001b[0m \u001b[0mint\u001b[0m\u001b[0;34m(\u001b[0m\u001b[0minput\u001b[0m\u001b[0;34m(\u001b[0m\u001b[0;34m\"Enter a number: \"\u001b[0m\u001b[0;34m)\u001b[0m\u001b[0;34m)\u001b[0m\u001b[0;34m\u001b[0m\u001b[0;34m\u001b[0m\u001b[0m\n\u001b[1;32m      5\u001b[0m     \u001b[0mprint\u001b[0m\u001b[0;34m(\u001b[0m\u001b[0mnumber\u001b[0m\u001b[0;34m)\u001b[0m\u001b[0;34m\u001b[0m\u001b[0;34m\u001b[0m\u001b[0m\n",
      "\u001b[0;31mZeroDivisionError\u001b[0m: division by zero"
     ]
    }
   ],
   "source": [
    "value = 10/0\n",
    "\n",
    "try:\n",
    "    number = int(input(\"Enter a number: \"))\n",
    "    print(number)\n",
    "except:\n",
    "    print(\"Invalid input\")"
   ]
  },
  {
   "cell_type": "code",
   "execution_count": 76,
   "metadata": {},
   "outputs": [
    {
     "name": "stdout",
     "output_type": "stream",
     "text": [
      "Invalid input\n"
     ]
    }
   ],
   "source": [
    "try:\n",
    "    value = 10/0\n",
    "    number = int(input(\"Enter a number: \"))\n",
    "    print(number)\n",
    "except:\n",
    "    print(\"Invalid input\")"
   ]
  },
  {
   "cell_type": "markdown",
   "metadata": {},
   "source": [
    "In the above block of code, we are handling the error coming from the statement `10/0` because we cannot divide anything by `0`. But we are handling all the different types of error with a single except block. So both `ZeroDivisionError` and `ValueError` will come inside the same except block and we will print `Invalid Input`. To handle this, we can add different `except` blocks for different types of errors and handle them accordingly. For eg"
   ]
  },
  {
   "cell_type": "code",
   "execution_count": 77,
   "metadata": {},
   "outputs": [
    {
     "name": "stdout",
     "output_type": "stream",
     "text": [
      "Cannot divide by zero\n"
     ]
    }
   ],
   "source": [
    "try:\n",
    "    value = 10/0\n",
    "    number = int(input(\"Enter a number: \"))\n",
    "    print(number)\n",
    "except ZeroDivisionError:\n",
    "    print(\"Cannot divide by zero\")\n",
    "except ValueError:\n",
    "    print(\"Invalid Input\")"
   ]
  },
  {
   "cell_type": "markdown",
   "metadata": {},
   "source": [
    "We can also save the error message we get in the except block inside a variable and then use this. For eg"
   ]
  },
  {
   "cell_type": "code",
   "execution_count": 78,
   "metadata": {},
   "outputs": [
    {
     "name": "stdout",
     "output_type": "stream",
     "text": [
      "division by zero\n"
     ]
    }
   ],
   "source": [
    "try:\n",
    "    value = 10/0\n",
    "    number = int(input(\"Enter a number: \"))\n",
    "    print(number)\n",
    "except ZeroDivisionError as err:\n",
    "    print(err)\n",
    "except ValueError:\n",
    "    print(\"Invalid Input\")"
   ]
  },
  {
   "cell_type": "markdown",
   "metadata": {},
   "source": [
    "In python, a best practice is that we handle each type of error individually, i.e., defining all the different except blocks instead of keeping just a single except block and handling all the errors in that."
   ]
  },
  {
   "cell_type": "markdown",
   "metadata": {},
   "source": [
    "## Reading files\n",
    "We can read external files, i.e, we can read files which are not our code files, like txt file, html, csv, etc.\n",
    "We can read using the python command `open()`. This command takes 2 inputs, file path of the file to be read and the mode in which file is to be opened. We can open the files in multiple modes like read, write. Modes are as follows :- \n",
    "* r - read mode, it this we only read the data of the file and use that data, not modify the data of the file\n",
    "* w - write mode, in this we can modify the information of the file, write new data, etc\n",
    "* a - append mode, in this we can only add new data to the end of the file. We cannot modify any existing data of the file\n",
    "* r+ - read and write mode, in this we can both read and write the file\n",
    "\n",
    "Whenever we open a file, we need to close the file also. This is done using the function `close()`. This is so that we cannot access this file any more.\n",
    "\n",
    "For eg - we have created a file `employees.txt` which we will read"
   ]
  },
  {
   "cell_type": "code",
   "execution_count": 79,
   "metadata": {},
   "outputs": [
    {
     "name": "stdout",
     "output_type": "stream",
     "text": [
      "True\n",
      "Jim - Salaryman\n",
      "Jerry - Engineer\n",
      "Tim - CEO\n",
      "Jenny - Scientist\n",
      "Doe - Guy\n",
      "Doe2 - Guy2\n"
     ]
    }
   ],
   "source": [
    "employeeFile = open(\"employees.txt\",\"r\")\n",
    "\n",
    "#Before reading the file, we should check whether we can read the file or not. To do that we have a function called `readable()` which will return true of the file is readable else false\n",
    "print(employeeFile.readable())\n",
    "\n",
    "# To read the entire file, we can use the function `.read()`\n",
    "print(employeeFile.read())\n",
    "\n",
    "employeeFile.close()"
   ]
  },
  {
   "cell_type": "code",
   "execution_count": 80,
   "metadata": {},
   "outputs": [
    {
     "name": "stdout",
     "output_type": "stream",
     "text": [
      "Jim - Salaryman\n",
      "\n",
      "Jerry - Engineer\n",
      "\n",
      "Tim - CEO\n",
      "\n"
     ]
    }
   ],
   "source": [
    "employeeFile = open(\"employees.txt\",\"r\")\n",
    "\n",
    "\n",
    "# To read the file line by line, we can use the function `readline()`\n",
    "print(employeeFile.readline())\n",
    "# The readline function has a cursor which moves 1 line after another. So if we call this function again, we will get the next line.\n",
    "print(employeeFile.readline())\n",
    "print(employeeFile.readline())\n",
    "\n",
    "employeeFile.close()"
   ]
  },
  {
   "cell_type": "markdown",
   "metadata": {},
   "source": [
    "Instead of reading a file line by line using function `readline()`, we can use the function `readlines()`. This function will read all the lines of the files and add them to a list"
   ]
  },
  {
   "cell_type": "code",
   "execution_count": 81,
   "metadata": {},
   "outputs": [
    {
     "name": "stdout",
     "output_type": "stream",
     "text": [
      "['Jim - Salaryman\\n', 'Jerry - Engineer\\n', 'Tim - CEO\\n', 'Jenny - Scientist\\n', 'Doe - Guy\\n', 'Doe2 - Guy2']\n"
     ]
    }
   ],
   "source": [
    "employeeFile = open(\"employees.txt\",\"r\")\n",
    "\n",
    "print(employeeFile.readlines())\n",
    "\n",
    "employeeFile.close()"
   ]
  },
  {
   "cell_type": "code",
   "execution_count": 82,
   "metadata": {},
   "outputs": [
    {
     "name": "stdout",
     "output_type": "stream",
     "text": [
      "Jim - Salaryman\n",
      "\n",
      "Jerry - Engineer\n",
      "\n",
      "Tim - CEO\n",
      "\n",
      "Jenny - Scientist\n",
      "\n",
      "Doe - Guy\n",
      "\n",
      "Doe2 - Guy2\n"
     ]
    }
   ],
   "source": [
    "employeeFile = open(\"employees.txt\",\"r\")\n",
    "\n",
    "for employee in employeeFile.readlines():\n",
    "    print(employee)\n",
    "\n",
    "employeeFile.close()"
   ]
  },
  {
   "cell_type": "markdown",
   "metadata": {},
   "source": [
    "## Writing to files\n",
    "In python we can also write data on the file apart from only reading the data from the file.\n",
    "\n",
    "For eg, if we want to add new employee data to the end of the file. We can do so using by opening the file in `append` mode and then calling the function `write()` which takes argument the data to write. This will add the data to the end of the file."
   ]
  },
  {
   "cell_type": "code",
   "execution_count": 83,
   "metadata": {},
   "outputs": [],
   "source": [
    "employeeFile = open(\"employees.txt\",\"a\")\n",
    "\n",
    "employeeFile.write(\"Doe - Guy\")\n",
    "\n",
    "employeeFile.close()"
   ]
  },
  {
   "cell_type": "markdown",
   "metadata": {},
   "source": [
    "What we see is that the data will get added to the file but it will add the data after the existing text,i.e., it will be in a single line without any space or new line. This is because the data will get added to the file as it is. The function will not perform any form of formatting. We can add to the new line using new line escape character `\\n`. `\\n` creates a new line. "
   ]
  },
  {
   "cell_type": "code",
   "execution_count": 84,
   "metadata": {},
   "outputs": [],
   "source": [
    "employeeFile = open(\"employees.txt\",\"a\")\n",
    "\n",
    "employeeFile.write(\"\\nDoe2 - Guy2\")\n",
    "\n",
    "employeeFile.close()"
   ]
  },
  {
   "cell_type": "markdown",
   "metadata": {},
   "source": [
    "We can use `w` mode to rewrite the data in the file instead of only appending the data done by `a` mode. Also we can create a new file using `w` mode. For eg -"
   ]
  },
  {
   "cell_type": "code",
   "execution_count": 85,
   "metadata": {},
   "outputs": [],
   "source": [
    "employeeFile = open(\"employees1.txt\",\"w\")\n",
    "employeeFile.write(\"Doe2 - Guy2\")\n",
    "employeeFile.close()"
   ]
  },
  {
   "cell_type": "markdown",
   "metadata": {},
   "source": [
    "The above code will create a new file `employees1.txt` and add the data in that file. This can also be used to create some `HTML` files from the code."
   ]
  },
  {
   "cell_type": "markdown",
   "metadata": {},
   "source": [
    "<a id=\"Modules_and_Pip\"></a>"
   ]
  },
  {
   "cell_type": "markdown",
   "metadata": {},
   "source": [
    "## Modules and Pip"
   ]
  },
  {
   "cell_type": "markdown",
   "metadata": {},
   "source": [
    "Module can be understood as a python file containing some code which we can use in our own file. This allows that we can reuse the code present somewhere inside our code instead of just making copies of the same code and using it, which in turn makes our code more managable and easy to mantain. To import any module, we can use the command `import`. For example"
   ]
  },
  {
   "cell_type": "code",
   "execution_count": 86,
   "metadata": {},
   "outputs": [
    {
     "data": {
      "text/plain": [
       "4"
      ]
     },
     "execution_count": 86,
     "metadata": {},
     "output_type": "execute_result"
    }
   ],
   "source": [
    "import math\n",
    "\n",
    "math.ceil(3.7)"
   ]
  },
  {
   "cell_type": "markdown",
   "metadata": {},
   "source": [
    "In the above program, instead of rewriting code for the `ceil` function, we just used the module `math` build in python and then called the `ceil` function. There are multiple building modules of python that we can see [here](https://docs.python.org/3/py-modindex.html). Apart from this, there are ton of 3rd party modules that can provide so many functionalities for us to use. To manage these third party modules, we use a tool of python called `pip`. pip is a python module manager through which we can install, upgrade and remove python modules. pip also has many other functionalities"
   ]
  },
  {
   "cell_type": "markdown",
   "metadata": {},
   "source": [
    "## Classes and Objects\n",
    "Classes and objects help to make the program more powerful.  Python has some primitive data types like string, int and boolean and then some more complicated ones like lists, tuples and dictionaries. But they do not allow to represent all kinds of data and sometimes we may want to create our own data structures. Classes an objects allow us to do so."
   ]
  },
  {
   "cell_type": "markdown",
   "metadata": {},
   "source": [
    "Create a new file called `Student.py` and add the following content to it\n",
    "```python\n",
    "class Student:\n",
    "    def __init__(self, name, major, gpa, isOnProbation):\n",
    "        self.name = name\n",
    "        self.major = major\n",
    "        self.gpa = gpa\n",
    "        self.isOnProbation = isOnProbation\n",
    "```\n",
    "\n",
    "This will define the student data type with the properties `name`, `major`, `gpa` and `isOnProbation`. The `__init__` is the first function that we need to define for the class since this is the first function that is called when we create a new object for the class. Also we need to pass the first argument as `self` so that we can get the input value from the object initialization."
   ]
  },
  {
   "cell_type": "code",
   "execution_count": 87,
   "metadata": {},
   "outputs": [
    {
     "name": "stdout",
     "output_type": "stream",
     "text": [
      "Tom\n",
      "Engineer\n"
     ]
    }
   ],
   "source": [
    "from Student import Student # We are importing Student class from the Student file. Both the names are having different purpose although they look same\n",
    "\n",
    "# Creating 2 objects for student class. The values passed are ones which we are using in __init__ function. Once set, we can get these data from the object by using the `.` operator\n",
    "student1 = Student(\"Tom\",\"Business\", 3.2, False)\n",
    "student2 = Student(\"Tim\",\"Engineer\", 3.3, True)\n",
    "\n",
    "print(student1.name)\n",
    "print(student2.major)"
   ]
  },
  {
   "cell_type": "markdown",
   "metadata": {},
   "source": [
    "In the above code, when we are creating the student object by passing the data, the data is going to the function `__init__` and in that we are setting the values for the object attributes as the values that we are passing as input. For eg, in the student object, we are passing the attributes `\"Tom\",\"Business\", 3.2, False`. These attributes are going to the function `__init__` as arguments, then when we are executing the operation `self.name = name`, we are setting the value for the attribute `name` of the function object with the input value that we are sending when creating the object `\"Tim\"`. "
   ]
  },
  {
   "cell_type": "markdown",
   "metadata": {},
   "source": [
    "## Building a Multiple Choice Quiz\n",
    "In this program, we will create a multiple choice quiz. In this, the user will be asked multiple questions and for each question, there will be multiple choices of answer and any one answer will be correct. \n",
    "\n",
    "Each question essentially has 2 parts, the question itself and the answer to it.\n",
    "\n",
    "Create a file `Question.py` which will contain the question class with the following data \n",
    "```python\n",
    "class Question:\n",
    "    def __init__(self, prompt, answer):\n",
    "        self.prompt = prompt\n",
    "        self.answer = answer\n",
    "```"
   ]
  },
  {
   "cell_type": "code",
   "execution_count": 88,
   "metadata": {},
   "outputs": [
    {
     "name": "stdin",
     "output_type": "stream",
     "text": [
      "What color are Apples?\n",
      "(a) Red/Green\n",
      "(b) Purple\n",
      "(c) Orange\n",
      "\n",
      " a\n",
      "What color are Bananas?\n",
      "(a) Teal\n",
      "(b) Magenta\n",
      "(c) Yellow\n",
      "\n",
      " c\n",
      "What color are Strawberries?\n",
      "(a) Yellow\n",
      "(b) Red\n",
      "(c) Blue\n",
      "\n",
      " b\n"
     ]
    },
    {
     "name": "stdout",
     "output_type": "stream",
     "text": [
      "\n",
      " You got 3/3 correct\n"
     ]
    }
   ],
   "source": [
    "from Question import Question\n",
    "\n",
    "# question_prompts list contains the questions\n",
    "questionPrompts = [\n",
    "    \"What color are Apples?\\n(a) Red/Green\\n(b) Purple\\n(c) Orange\\n\\n\",\n",
    "    \"What color are Bananas?\\n(a) Teal\\n(b) Magenta\\n(c) Yellow\\n\\n\",\n",
    "    \"What color are Strawberries?\\n(a) Yellow\\n(b) Red\\n(c) Blue\\n\\n\"\n",
    "]\n",
    "\n",
    "# Creating an array of question objects. We are sending the question and answer as object initialization data\n",
    "questions = [\n",
    "    Question(questionPrompts[0],\"a\"),\n",
    "    Question(questionPrompts[1],\"c\"),\n",
    "    Question(questionPrompts[2],\"b\")\n",
    "]\n",
    "\n",
    "def runTest(questions):\n",
    "    score = 0 # Every time a user answers correct, score will increase\n",
    "    for question in questions:\n",
    "        answer = input(question.prompt)\n",
    "        if answer == question.answer:\n",
    "            score +=1\n",
    "    print(\"\\n You got \" + str(score) + \"/\" + str(len(questions)) + \" correct\")\n",
    "\n",
    "runTest(questions)"
   ]
  },
  {
   "cell_type": "markdown",
   "metadata": {},
   "source": [
    "## Object functions\n",
    "Classes apart from containing attributes for the objects that we can access, can also contain functions. These class functions are available to the objects of the class that are created. \n",
    "\n",
    "For example, in our student class defined above, we can add a function `onHonorRoll` which will return true or false if the `gpa>=3.5`. We will define this function as follows - \n",
    "```python\n",
    "# This function \n",
    "def onHonorRoll(self):\n",
    "    if self.gpa >= 3.5:\n",
    "        return True\n",
    "    else:\n",
    "        return False\n",
    "```\n",
    "Now when we create an object of class `student`, the object will have a function `onHonorRoll` which will return Boolean value based on the object's gpa value."
   ]
  },
  {
   "cell_type": "code",
   "execution_count": 89,
   "metadata": {},
   "outputs": [
    {
     "name": "stdout",
     "output_type": "stream",
     "text": [
      "False\n",
      "True\n"
     ]
    }
   ],
   "source": [
    "from Student import Student\n",
    "\n",
    "student1 = Student(\"Oscar\",\"Accounting\",3.1,False)\n",
    "student2 = Student(\"Oscarine\",\"Business\",3.8,False)\n",
    "\n",
    "# Calling the class function onHonorRoll() created in class Student\n",
    "print(student1.onHonorRoll())\n",
    "print(student2.onHonorRoll())"
   ]
  },
  {
   "cell_type": "markdown",
   "metadata": {},
   "source": [
    "## Inheritence\n",
    "We can  define attributes and functions in a class and then define another class in which we can inherit those attributes and function,i.e., 1 class can have all the attributes and functionalities of another class without rewriting the code."
   ]
  },
  {
   "cell_type": "markdown",
   "metadata": {},
   "source": [
    "Create a new file called `Chef.py` and add the following class definition to it\n",
    "```python\n",
    "class Chef:\n",
    "    \n",
    "    def make_chicken(self):\n",
    "        print(\"The chef makes a chicken\")\n",
    "        \n",
    "    def make_salad(self):\n",
    "        print(\"The chef makes a salad\")\n",
    "        \n",
    "    def make_special_dish(self):\n",
    "        print(\"The chef makes bbq ribs\")\n",
    "```\n",
    "\n",
    "Now we have a class `Chef` which contains functions that we can call"
   ]
  },
  {
   "cell_type": "code",
   "execution_count": 90,
   "metadata": {},
   "outputs": [
    {
     "name": "stdout",
     "output_type": "stream",
     "text": [
      "The chef makes a chicken\n",
      "The chef makes a salad\n"
     ]
    }
   ],
   "source": [
    "from Chef import Chef\n",
    "\n",
    "myChef = Chef()\n",
    "\n",
    "myChef.make_chicken()\n",
    "myChef.make_salad()"
   ]
  },
  {
   "cell_type": "markdown",
   "metadata": {},
   "source": [
    "Now let's say we want to create a special type of chef, like a chinese chef. A chinese chef should be able to make all the things a normal chef can do plus it can make 1 more dish. Also instead of `bbq ribs`, the chinese chef has the speciality of `orange chicken`. Onw way to implement it is that we create a new file `ChineseChef.py` and in that we add all the normal chef functions as well as the new function to make fried rice. \n",
    "\n",
    "Add the following code to the file `ChineseChef.py`\n",
    "```python\n",
    "class ChineseChef:\n",
    "    \n",
    "    def make_chicken(self):\n",
    "        print(\"The chef makes a chicken\")\n",
    "        \n",
    "    def make_salad(self):\n",
    "        print(\"The chef makes a salad\")\n",
    "        \n",
    "    def make_special_dish(self):\n",
    "        print(\"The chef makes orange chicken\")\n",
    "        \n",
    "    def make_fried_rice(self):\n",
    "        print(\"The chef makes fried rice\")\n",
    "```\n",
    "\n",
    "Now we can create object for Chinese Chef"
   ]
  },
  {
   "cell_type": "code",
   "execution_count": 91,
   "metadata": {},
   "outputs": [
    {
     "name": "stdout",
     "output_type": "stream",
     "text": [
      "The chef makes a chicken\n",
      "The chef makes fried rice\n",
      "The chef makes orange chicken\n"
     ]
    }
   ],
   "source": [
    "from Chef import Chef\n",
    "from ChineseChef import ChineseChef\n",
    "\n",
    "myChef = Chef()\n",
    "myChef.make_chicken()\n",
    "\n",
    "myChineseChef = ChineseChef()\n",
    "myChineseChef.make_fried_rice()\n",
    "myChineseChef.make_special_dish()"
   ]
  },
  {
   "cell_type": "markdown",
   "metadata": {},
   "source": [
    "We see that although Chinese chef class can do all the things that the chef class can do + more, we are basically creating a physical copy of the code. This will be increasingly difficlt if we want to make any changes in the chef class, we will have to physically go to all the classes where we copied the chef class code and modify that.\n",
    "\n",
    "Another way to handle that is inheriting the Chef class into the ChineseChef class. This will allow the ChineseChef class to have all the attributes and the class functions of the Chef class plus define it's own internal ones.\n",
    "\n",
    "We will modify our `ChineseChef` Class as follows\n",
    "```python\n",
    "from Chef import Chef\n",
    "\n",
    "class ChineseChef(Chef):\n",
    "        \n",
    "    def make_fried_rice(self):\n",
    "        print(\"The chef makes fried rice\")\n",
    "```\n",
    "\n",
    "To inherit a class into another class, we pass the parent class as arg in `()` to the class definition. Like if we want to import `Chef` class to the `ChineseChef` class, we will define the class as `class ChineseChef(Chef)`. Now the chinese chef has all the functions and attributes of chef class."
   ]
  },
  {
   "cell_type": "code",
   "execution_count": 92,
   "metadata": {},
   "outputs": [
    {
     "name": "stdout",
     "output_type": "stream",
     "text": [
      "The chef makes a chicken\n",
      "The chef makes fried rice\n",
      "The chef makes orange chicken\n"
     ]
    }
   ],
   "source": [
    "from Chef import Chef\n",
    "from ChineseChef import ChineseChef\n",
    "\n",
    "myChef = Chef()\n",
    "myChef.make_chicken()\n",
    "\n",
    "myChineseChef = ChineseChef()\n",
    "myChineseChef.make_fried_rice()\n",
    "myChineseChef.make_special_dish()"
   ]
  },
  {
   "cell_type": "markdown",
   "metadata": {},
   "source": [
    "Now the chinese chef has all the functions of chef class but 1 problem has come. The chinese chef has the special dish as `bbq ribs` instead of `orange chicken`. To overcome this problem, we will override this function by creating the function in the `ChineseChef` class and add the function `make_special_dish`. Add the following function def to the `ChineseChef` class\n",
    "```python\n",
    "def make_special_dish(self):\n",
    "    print(\"The chef makes orange chicken\")\n",
    "```\n",
    "\n",
    "Now our chinese chef will create orange chicken as special dish whilw our chef will make bbq ribs as special dish"
   ]
  },
  {
   "cell_type": "code",
   "execution_count": 93,
   "metadata": {},
   "outputs": [
    {
     "name": "stdout",
     "output_type": "stream",
     "text": [
      "The chef makes a chicken\n",
      "The chef makes bbq ribs\n",
      "The chef makes fried rice\n",
      "The chef makes orange chicken\n"
     ]
    }
   ],
   "source": [
    "from Chef import Chef\n",
    "from ChineseChef import ChineseChef\n",
    "\n",
    "myChef = Chef()\n",
    "myChef.make_chicken()\n",
    "myChef.make_special_dish()\n",
    "\n",
    "myChineseChef = ChineseChef()\n",
    "myChineseChef.make_fried_rice()\n",
    "myChineseChef.make_special_dish()"
   ]
  },
  {
   "cell_type": "markdown",
   "metadata": {},
   "source": [
    "## Conclusion\n",
    "This concludes the basic python learning course"
   ]
  }
 ],
 "metadata": {
  "kernelspec": {
   "display_name": "Python 3",
   "language": "python",
   "name": "python3"
  },
  "language_info": {
   "codemirror_mode": {
    "name": "ipython",
    "version": 3
   },
   "file_extension": ".py",
   "mimetype": "text/x-python",
   "name": "python",
   "nbconvert_exporter": "python",
   "pygments_lexer": "ipython3",
   "version": "3.7.6"
  }
 },
 "nbformat": 4,
 "nbformat_minor": 4
}
