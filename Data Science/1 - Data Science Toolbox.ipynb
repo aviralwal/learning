{
 "cells": [
  {
   "cell_type": "markdown",
   "metadata": {},
   "source": [
    "## Data Science Toolbox"
   ]
  },
  {
   "cell_type": "code",
   "execution_count": null,
   "metadata": {},
   "outputs": [],
   "source": [
    "import numpy as np\n",
    "import pandas as pd\n",
    "import matplotlib.pyplot as plt"
   ]
  },
  {
   "cell_type": "markdown",
   "metadata": {},
   "source": [
    "### What is Data Science and data scientist\n",
    "\n",
    "Data science is basically using data to answer questions. It can involve statistics, computer science, maths, data cleaning and formatting and data visualization.\n",
    "\n",
    "The need for data science has increased due to the generation of lot's of big data and need to extract some meaningful information from that data.\n",
    "\n",
    "**Data Scientist** can be defined as someone who combines programming, stats and domain knowledge to answer questions based on data.\n",
    "![Data Scientist](images/data_science-data_scientist.png)"
   ]
  },
  {
   "cell_type": "markdown",
   "metadata": {},
   "source": [
    "### What is data\n",
    "\n",
    "Data can be defined as \"A set of values of quantitative and qualitative variables\". __A set of values__ means that value population on which we are trying to discover something, __variables__ are the characterestics of the item, __qualitative__ means values which are non-numeric in nature and cannot be quantized, or we cannot tell the exact quantit and __quantitative__ means the values which we can tell the exaact amount of.\n",
    "\n",
    "In data science, first we ask the questions and then use data to find answer to those questions. It might happen that due to data limitations, we might have to refraim the question but the data science is driven by question and not data.\n"
   ]
  },
  {
   "cell_type": "markdown",
   "metadata": {},
   "source": [
    "### Types of data analysis\n",
    "\n",
    "There are multiple types of data analysis that is used by data scientist to answer questions. There are broadly 6 categories of difficulties. In increasing order of difficulty, they are -\n",
    "1. **Descriptive** - \n",
    "![descriptive analysis](images/data_science-data_analysis-descriptive.png)\n",
    "This is usually the first analysis in the new dataset. In this, we just create a basic summary of the complete data that we have and do not try to find conclusions.There are additionaly analysis required if we want to create any interpretation.\n",
    "2. **Exploratory** - \n",
    "![exploratory analysis](images/data_science-data_analysis-exploratory.png)\n",
    "In this, we explore the relation between different variables in the data that weren't previously visible but do not confirm the causation of the relation, i.e., it does not tell how the change in 1 affects the another. This analysis should not be used as a final say on how and why the data is related to each other\n",
    "3. **Inferential** - \n",
    "![inferential analysis](images/data_science-data_analysis-inferential.png)\n",
    "Inferential analysis is commonly the goal of statistical modelling. Where you have a small amount of information to extrapolate and generalise that information to a larger group. If the data you collect is not from a representative sample of the population, the generalizations you infer won't be accurate for the population.\n",
    "4. **Predictive**\n",
    "![predictive analysis](images/data_science-data_analysis-predictive.png)\n",
    "5. **Causal** - \n",
    "![causal analysis](images/data_science-data_analysis-causal.png)\n",
    "Generally, causal analysis are fairly complicated to do with observed data alone. There will always be questions as to whether are these correlation driving your conclusions, or that the assumptions underlying your analysis are valid. It is seen frequently in scientific studies where scientists are trying to identify the cause of a phenomenon. But often getting appropriate data for doing a causal analysis is a challenge\n",
    "6. **Mechanistic** - \n",
    "![mechanistic analysis](images/data_science-data_analysis-mechanistic.png)\n",
    "Mechanistic analysis are not nearly as commonly used as the previous analysis."
   ]
  },
  {
   "cell_type": "markdown",
   "metadata": {},
   "source": [
    "### Experimental design concepts\n",
    "\n",
    "As a data scientist, we need to design a proper experiement to answer the questions. Experimental design is organizing an experiment so that you have the correct data (and enough of it!) to clearly and effectively answer your data science question. Before going into analysis, it is imp to have a plan on how we will proceed with the analysis of data since incorrect analysis can lead to incorrect answers for our questions. "
   ]
  },
  {
   "cell_type": "markdown",
   "metadata": {},
   "source": [
    "#### Principal of experimental design\n",
    "\n",
    "* Independent variable (AKA factor): The variable that the experimenter manipulates; it does not depend on other variables being measured. Often displayed on the x-axis.\n",
    "\n",
    "* Dependent variable: The variable that is expected to change as a result of changes in the independent variable. Often displayed on the y-axis, so that changes in X, the independent variable, effect changes in Y.\n",
    "\n",
    "* Hypothesis: an educated guess of the relationship between variables and the outcome of the experiment.\n",
    "\n",
    "* Confounder: An extraneous variable that may affect the relationship between the dependent and independent variables.\n",
    "\n",
    "* Sample size: The number of experimental subjects you will include in your experiment\n",
    "\n",
    "* A control group is a group of subjects for which the independent variable is not changed but still have their dependent variables measured. This allows to take care of the confounder. There are multiple ways to create control groups to take care of confounder\n",
    "    * Blinded - it means that the control group is not aware that the independent variables are note being changed for it. It is generally done by using __placebo__ effect.\n",
    "    * Randomization - it means randomly distributing the subjects to control and experiment group to decrease the concentration of the confounder in any one place\n",
    "    * Replication - repeating the experiment multiple times with different experiment groups to give weightage to the foundings."
   ]
  },
  {
   "cell_type": "markdown",
   "metadata": {},
   "source": [
    "### Big data\n",
    "\n",
    "Big data can be characterized by three qualities -\n",
    "![Big Data](images/data_science-big_data.png)\n",
    "* **Volume** - involves large data sets\n",
    "* **Velocity** - high speed of data generation\n",
    "* **Variety** - there are several different types of data available\n",
    "\n",
    "\n",
    "Given some of the qualities of big data above, you can already start seeing some of the challenges that may be associated with working with big data.\n",
    "\n",
    "* It is big: there is a lot of raw data that you need to be able to store and analyse;\n",
    "* It is constantly changing and updating: By the time you finish your analysis, there is even more new data you could incorporate into your analysis! Every second you are analysing, is another second of data you haven’t used!\n",
    "* The variety can be overwhelming: There are so many sources of information that it can sometimes be difficult to determine what source of data may be best suited to answer your data science question! And finally,\n",
    "* It is messy: You don’t have neat data tables to quickly analyse - you have messy data. Before you can start looking for answers, you need to turn your unstructured data into a format that you can analyse!"
   ]
  },
  {
   "cell_type": "markdown",
   "metadata": {},
   "source": [
    "![separator2](https://i.imgur.com/4gX5WFr.png)"
   ]
  }
 ],
 "metadata": {
  "kernelspec": {
   "display_name": "Python 3",
   "language": "python",
   "name": "python3"
  },
  "language_info": {
   "codemirror_mode": {
    "name": "ipython",
    "version": 3
   },
   "file_extension": ".py",
   "mimetype": "text/x-python",
   "name": "python",
   "nbconvert_exporter": "python",
   "pygments_lexer": "ipython3",
   "version": "3.7.6"
  }
 },
 "nbformat": 4,
 "nbformat_minor": 4
}
