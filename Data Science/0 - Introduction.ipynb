{
 "cells": [
  {
   "cell_type": "markdown",
   "metadata": {},
   "source": [
    "# Data Science\n"
   ]
  },
  {
   "cell_type": "markdown",
   "metadata": {},
   "source": [
    "## Hierarcy of needs - \n",
    "<img src=\"images/data_science-hierarchy_of_needs.png\" align=\"center\" ></img>\n"
   ]
  },
  {
   "cell_type": "markdown",
   "metadata": {},
   "source": [
    "## Steps in Data Science - \n",
    "1. **Understanding the (business) problem** - The first step is to understand the actual problem that we want to solve using the data. Ask right questions and gather as much clarity as possible on what exactly is required to be found out from the data. More clear and concise is the question, easier will be to find the answer. It’s important that at the end of this stage, you have all of the information and context you need to solve this problem.\n",
    "2. **Data acquisition** - Next we acquire data to solve the problem. This data can be acquired from multiple sourecs like internet, databases, logs, sensors, etc\n",
    "3. **Data preparation** - Once we have the data, we need cleanup the data, condense it and format it in such a manner that it can be used for further processing. This is one of the most important steps in data science process since this makes the foundation for further processes.\n",
    "4. **Exploratory data analysis** - Afer data preperation, we perform some exploratory analysis which gives us a rough idea about the data, what it represents. This step is just to get hang of what data is trying to communicate. We are not performing any proper analysis or finding any inferences. \n",
    "5. **Data modeling** - <font color=red>Need to read more on this</font>\n",
    "6. **Visualization and communication** - Finally after all is done, we need to visualize our finding and be able to communicate to the one's we want to, like clients, boss, manager, decision makers, etc, since it will all be of less use if we are unable to properly communicate whatever we have found out.\n",
    "7. **Deploy & maintenance** - After we have created our data models, presented it and everythign seems to work, the last step is to deploy the data model so that we can use it in real world to process data and get the desired output. Once the model is deployed, we need to mantain the model and  update it according to feedback. "
   ]
  },
  {
   "cell_type": "markdown",
   "metadata": {},
   "source": [
    "## Read \n",
    "https://www.kdnuggets.com/2016/03/data-science-process.html"
   ]
  },
  {
   "cell_type": "markdown",
   "metadata": {},
   "source": [
    "## Courses \n",
    "1. [Data Science by John Hopkins University - Coursera](https://www.coursera.org/specializations/jhu-data-science)"
   ]
  }
 ],
 "metadata": {
  "kernelspec": {
   "display_name": "Python 3",
   "language": "python",
   "name": "python3"
  },
  "language_info": {
   "codemirror_mode": {
    "name": "ipython",
    "version": 3
   },
   "file_extension": ".py",
   "mimetype": "text/x-python",
   "name": "python",
   "nbconvert_exporter": "python",
   "pygments_lexer": "ipython3",
   "version": "3.7.6"
  }
 },
 "nbformat": 4,
 "nbformat_minor": 4
}
