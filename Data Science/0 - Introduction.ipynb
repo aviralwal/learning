{
 "cells": [
  {
   "cell_type": "markdown",
   "metadata": {},
   "source": [
    "# Data Science"
   ]
  },
  {
   "cell_type": "markdown",
   "metadata": {},
   "source": [
    "## Read \n",
    "\n",
    "[Process of data science](https://www.kdnuggets.com/2016/03/data-science-process.html)\n",
    "\n",
    "[Exploratory data analysis](https://towardsdatascience.com/a-gentle-introduction-to-exploratory-data-analysis-f11d843b8184)\n",
    "\n",
    "[CRISP-DM](https://en.wikipedia.org/wiki/Cross-industry_standard_process_for_data_mining) method for data mining"
   ]
  },
  {
   "cell_type": "markdown",
   "metadata": {},
   "source": [
    "## Courses \n",
    "1. [Data Science by John Hopkins University - Coursera](https://www.coursera.org/specializations/jhu-data-science)\n",
    "2. [Data Science by IBM - EdX](https://www.edx.org/professional-certificate/ibm-data-science)\n",
    "3. [Data Science by MIT - EdX](https://www.edx.org/micromasters/mitx-statistics-and-data-science)"
   ]
  },
  {
   "cell_type": "markdown",
   "metadata": {},
   "source": [
    "## Packages used\n",
    "* Python\n",
    "    * numpy\n",
    "    * pandas\n",
    "    * matplotlib\n",
    "    * scipy"
   ]
  }
 ],
 "metadata": {
  "kernelspec": {
   "display_name": "Python 3",
   "language": "python",
   "name": "python3"
  },
  "language_info": {
   "codemirror_mode": {
    "name": "ipython",
    "version": 3
   },
   "file_extension": ".py",
   "mimetype": "text/x-python",
   "name": "python",
   "nbconvert_exporter": "python",
   "pygments_lexer": "ipython3",
   "version": "3.7.6"
  }
 },
 "nbformat": 4,
 "nbformat_minor": 4
}
